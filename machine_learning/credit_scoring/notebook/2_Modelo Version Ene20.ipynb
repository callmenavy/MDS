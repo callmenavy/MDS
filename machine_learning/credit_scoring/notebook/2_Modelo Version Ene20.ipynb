{
 "cells": [
  {
   "cell_type": "markdown",
   "metadata": {
    "toc": true
   },
   "source": [
    "<h1>Table of Contents<span class=\"tocSkip\"></span></h1>\n",
    "<div class=\"toc\"><ul class=\"toc-item\"><li><span><a href=\"#Revision-de-Variables\" data-toc-modified-id=\"Revision-de-Variables-1\"><span class=\"toc-item-num\">1&nbsp;&nbsp;</span>Revision de Variables</a></span><ul class=\"toc-item\"><li><span><a href=\"#Escalamiento-de-Variables-Independientes\" data-toc-modified-id=\"Escalamiento-de-Variables-Independientes-1.1\"><span class=\"toc-item-num\">1.1&nbsp;&nbsp;</span>Escalamiento de Variables Independientes</a></span></li><li><span><a href=\"#Funciones-para-el-procesamiento-de-los-modelos\" data-toc-modified-id=\"Funciones-para-el-procesamiento-de-los-modelos-1.2\"><span class=\"toc-item-num\">1.2&nbsp;&nbsp;</span>Funciones para el procesamiento de los modelos</a></span><ul class=\"toc-item\"><li><span><a href=\"#Función-para-buscar-los-valores-óptimos-dentro-de-la-cuadricula-de-busqueda:-se-ejecuta-mediante-la-función-CVGridSearch.\" data-toc-modified-id=\"Función-para-buscar-los-valores-óptimos-dentro-de-la-cuadricula-de-busqueda:-se-ejecuta-mediante-la-función-CVGridSearch.-1.2.1\"><span class=\"toc-item-num\">1.2.1&nbsp;&nbsp;</span>Función para buscar los valores óptimos dentro de la cuadricula de busqueda: se ejecuta mediante la función CVGridSearch.</a></span></li><li><span><a href=\"#Función-para-imprimir-el-modelo-en-un-archivo.\" data-toc-modified-id=\"Función-para-imprimir-el-modelo-en-un-archivo.-1.2.2\"><span class=\"toc-item-num\">1.2.2&nbsp;&nbsp;</span>Función para imprimir el modelo en un archivo.</a></span></li><li><span><a href=\"#Función-para-calcular-la-diferencia-porcentual-entre-las-mejores-y-peores-puntuaciones-mediante-la-función-CVGridSearch\" data-toc-modified-id=\"Función-para-calcular-la-diferencia-porcentual-entre-las-mejores-y-peores-puntuaciones-mediante-la-función-CVGridSearch-1.2.3\"><span class=\"toc-item-num\">1.2.3&nbsp;&nbsp;</span>Función para calcular la diferencia porcentual entre las mejores y peores puntuaciones mediante la función CVGridSearch</a></span></li><li><span><a href=\"#Función-Fit-Classification,-utiliza-el-CVGridSearch-para-generar-los-valores-óptimos.\" data-toc-modified-id=\"Función-Fit-Classification,-utiliza-el-CVGridSearch-para-generar-los-valores-óptimos.-1.2.4\"><span class=\"toc-item-num\">1.2.4&nbsp;&nbsp;</span>Función Fit Classification, utiliza el CVGridSearch para generar los valores óptimos.</a></span></li><li><span><a href=\"#Función-Matriz-de-Confusión\" data-toc-modified-id=\"Función-Matriz-de-Confusión-1.2.5\"><span class=\"toc-item-num\">1.2.5&nbsp;&nbsp;</span>Función Matriz de Confusión</a></span></li></ul></li></ul></li><li><span><a href=\"#Modelos\" data-toc-modified-id=\"Modelos-2\"><span class=\"toc-item-num\">2&nbsp;&nbsp;</span>Modelos</a></span><ul class=\"toc-item\"><li><span><a href=\"#Modelo-Regresión-Logístico\" data-toc-modified-id=\"Modelo-Regresión-Logístico-2.1\"><span class=\"toc-item-num\">2.1&nbsp;&nbsp;</span>Modelo Regresión Logístico</a></span></li><li><span><a href=\"#Gradient-Boost\" data-toc-modified-id=\"Gradient-Boost-2.2\"><span class=\"toc-item-num\">2.2&nbsp;&nbsp;</span>Gradient Boost</a></span></li></ul></li><li><span><a href=\"#Conclusiones\" data-toc-modified-id=\"Conclusiones-3\"><span class=\"toc-item-num\">3&nbsp;&nbsp;</span>Conclusiones</a></span></li></ul></div>"
   ]
  },
  {
   "cell_type": "markdown",
   "metadata": {},
   "source": [
    "# Práctica Final\n",
    "* Curso: Machine Learning\n",
    "* Integrantes: \n",
    "    * Marina Ortín\n",
    "    * Mayra Goicochea"
   ]
  },
  {
   "cell_type": "code",
   "execution_count": 93,
   "metadata": {},
   "outputs": [],
   "source": [
    "import time\n",
    "import pickle\n",
    "import numpy as np\n",
    "import os\n",
    "import pandas as pd"
   ]
  },
  {
   "cell_type": "code",
   "execution_count": 2,
   "metadata": {},
   "outputs": [],
   "source": [
    "import scipy"
   ]
  },
  {
   "cell_type": "code",
   "execution_count": 3,
   "metadata": {},
   "outputs": [],
   "source": [
    "from sklearn.dummy import DummyClassifier"
   ]
  },
  {
   "cell_type": "code",
   "execution_count": 4,
   "metadata": {},
   "outputs": [],
   "source": [
    "from IPython.core.display import HTML\n",
    "pd.set_option('display.max_rows',99999999)\n",
    "pd.set_option('display.max_columns',100)\n",
    "pd.set_option('display.max_colwidth',100)\n",
    "pd.set_option('display.width',None)\n",
    "import warnings"
   ]
  },
  {
   "cell_type": "code",
   "execution_count": 5,
   "metadata": {},
   "outputs": [],
   "source": [
    "from sklearn.feature_selection import RFE"
   ]
  },
  {
   "cell_type": "code",
   "execution_count": 6,
   "metadata": {},
   "outputs": [],
   "source": [
    "import matplotlib.pyplot as plt\n",
    "import seaborn as sns\n",
    "%matplotlib inline"
   ]
  },
  {
   "cell_type": "code",
   "execution_count": 7,
   "metadata": {},
   "outputs": [],
   "source": [
    "from sklearn import preprocessing,metrics \n",
    "warnings.filterwarnings('ignore')\n",
    "from sklearn.svm import SVC\n",
    "from sklearn.model_selection import learning_curve\n",
    "from sklearn.model_selection import ShuffleSplit\n",
    "from xgboost.sklearn import XGBClassifier\n",
    "from sklearn.model_selection import train_test_split, GridSearchCV\n",
    "from sklearn.ensemble import RandomForestClassifier\n",
    "from sklearn.neighbors import KNeighborsClassifier\n",
    "from sklearn.metrics import accuracy_score, classification_report, roc_auc_score, roc_curve, brier_score_loss, mean_squared_error, r2_score\n",
    "from sklearn.metrics import precision_score,recall_score,f1_score\n",
    "from sklearn.calibration import calibration_curve\n",
    "from sklearn import linear_model,svm\n",
    "from sklearn.linear_model import LinearRegression, Ridge, Lasso\n",
    "from sklearn.metrics import average_precision_score\n",
    "from sklearn.metrics import precision_recall_curve"
   ]
  },
  {
   "cell_type": "code",
   "execution_count": 8,
   "metadata": {},
   "outputs": [],
   "source": [
    "from sklearn.ensemble import GradientBoostingClassifier"
   ]
  },
  {
   "cell_type": "code",
   "execution_count": 9,
   "metadata": {},
   "outputs": [],
   "source": [
    "from sklearn.ensemble import RandomForestRegressor\n",
    "from sklearn.model_selection import RandomizedSearchCV, StratifiedKFold"
   ]
  },
  {
   "cell_type": "code",
   "execution_count": 10,
   "metadata": {},
   "outputs": [],
   "source": [
    "from sklearn.preprocessing import MinMaxScaler\n",
    "from sklearn.ensemble import RandomForestRegressor"
   ]
  },
  {
   "cell_type": "code",
   "execution_count": 11,
   "metadata": {},
   "outputs": [],
   "source": [
    "from sklearn.linear_model import LogisticRegression, LogisticRegressionCV"
   ]
  },
  {
   "cell_type": "code",
   "execution_count": 12,
   "metadata": {},
   "outputs": [
    {
     "name": "stderr",
     "output_type": "stream",
     "text": [
      "Using TensorFlow backend.\n"
     ]
    }
   ],
   "source": [
    "from imblearn.over_sampling import SMOTE"
   ]
  },
  {
   "cell_type": "code",
   "execution_count": 13,
   "metadata": {},
   "outputs": [],
   "source": [
    "import itertools\n",
    "from sklearn.metrics import confusion_matrix"
   ]
  },
  {
   "cell_type": "code",
   "execution_count": 14,
   "metadata": {},
   "outputs": [],
   "source": [
    "from sklearn.preprocessing import StandardScaler"
   ]
  },
  {
   "cell_type": "code",
   "execution_count": 15,
   "metadata": {},
   "outputs": [],
   "source": [
    "filename ='../data/2_TrainSet.gz'\n",
    "loan_train = pd.read_csv(filename, compression='gzip',low_memory=False)"
   ]
  },
  {
   "cell_type": "code",
   "execution_count": 101,
   "metadata": {},
   "outputs": [
    {
     "data": {
      "text/plain": [
       "(980547, 61)"
      ]
     },
     "execution_count": 101,
     "metadata": {},
     "output_type": "execute_result"
    }
   ],
   "source": [
    "loan_train.shape"
   ]
  },
  {
   "cell_type": "code",
   "execution_count": 97,
   "metadata": {},
   "outputs": [],
   "source": [
    "filename ='../data/2_TestSet.gz'\n",
    "loan_test = pd.read_csv(filename, compression='gzip',low_memory=False)"
   ]
  },
  {
   "cell_type": "markdown",
   "metadata": {},
   "source": [
    "Colocamos la columna Credit Risk en la ultima posición:"
   ]
  },
  {
   "cell_type": "code",
   "execution_count": 17,
   "metadata": {
    "scrolled": true
   },
   "outputs": [],
   "source": [
    "cols = loan_train.drop(['credit_risk',],axis=1).columns.tolist()\n",
    "cols.pop(0)\n",
    "cols.append('credit_risk')\n",
    "loan_train = loan_train[cols]"
   ]
  },
  {
   "cell_type": "code",
   "execution_count": 102,
   "metadata": {
    "scrolled": true
   },
   "outputs": [],
   "source": [
    "cols = loan_test.drop(['credit_risk',],axis=1).columns.tolist()\n",
    "cols.pop(0)\n",
    "cols.append('credit_risk')\n",
    "loan_test = loan_test[cols]"
   ]
  },
  {
   "cell_type": "code",
   "execution_count": 74,
   "metadata": {},
   "outputs": [],
   "source": [
    "loan_train.fillna(0, inplace=True)\n",
    "loan_test.fillna(0, inplace=True)"
   ]
  },
  {
   "cell_type": "code",
   "execution_count": 103,
   "metadata": {},
   "outputs": [
    {
     "data": {
      "text/plain": [
       "(325634, 61)"
      ]
     },
     "execution_count": 103,
     "metadata": {},
     "output_type": "execute_result"
    }
   ],
   "source": [
    "loan_test.shape"
   ]
  },
  {
   "cell_type": "code",
   "execution_count": 87,
   "metadata": {},
   "outputs": [
    {
     "data": {
      "text/plain": [
       "(980547, 61)"
      ]
     },
     "execution_count": 87,
     "metadata": {},
     "output_type": "execute_result"
    }
   ],
   "source": [
    "loan_train.shape"
   ]
  },
  {
   "cell_type": "code",
   "execution_count": 104,
   "metadata": {},
   "outputs": [
    {
     "data": {
      "text/plain": [
       "0    0.785684\n",
       "1    0.214316\n",
       "Name: credit_risk, dtype: float64"
      ]
     },
     "execution_count": 104,
     "metadata": {},
     "output_type": "execute_result"
    }
   ],
   "source": [
    "X_train = loan_train.drop(['credit_risk'], axis=1)\n",
    "y_train = loan_train.loc[:, 'credit_risk']\n",
    "\n",
    "X_test = loan_test.drop(['credit_risk'], axis=1)\n",
    "y_test = loan_test['credit_risk']\n",
    "\n",
    "y_train.value_counts(normalize=True)"
   ]
  },
  {
   "cell_type": "code",
   "execution_count": 105,
   "metadata": {},
   "outputs": [
    {
     "data": {
      "text/plain": [
       "0.27"
      ]
     },
     "execution_count": 105,
     "metadata": {},
     "output_type": "execute_result"
    }
   ],
   "source": [
    "round(y_train.value_counts()[1]/y_train.value_counts()[0],2)"
   ]
  },
  {
   "cell_type": "code",
   "execution_count": 106,
   "metadata": {},
   "outputs": [],
   "source": [
    "# Parametros para las muestras aleatorias\n",
    "kfold = 3\n",
    "random_state = 86\n",
    "k=1\n",
    "output_file = \"output_sample\""
   ]
  },
  {
   "cell_type": "markdown",
   "metadata": {},
   "source": [
    "## Revision de Variables"
   ]
  },
  {
   "cell_type": "code",
   "execution_count": 25,
   "metadata": {},
   "outputs": [],
   "source": [
    "#Diccionario para guardar los rankings de las variables\n",
    "ranks = {}\n",
    "X = loan_train.drop(['credit_risk','issue_year'], axis=1)\n",
    "y = loan_train.loc[:, 'credit_risk']\n",
    "\n",
    "def ranking(ranks, names, order=1):\n",
    "    minmax = MinMaxScaler()\n",
    "    ranks = minmax.fit_transform(order*np.array([ranks]).T).T[0]\n",
    "    ranks = map(lambda x: round(x,2), ranks)\n",
    "    return dict(zip(names, ranks))\n",
    "colnames = X.columns"
   ]
  },
  {
   "cell_type": "code",
   "execution_count": 26,
   "metadata": {},
   "outputs": [],
   "source": [
    "# Crea un modelo RFE y selecciona 10 atributos\n",
    "clf_LR = linear_model.LogisticRegression(C=1e30)\n",
    "clf_LR.fit(X,y)\n",
    "rfe = RFE(clf_LR, 10)\n",
    "rfe = rfe.fit(X.values, y.values)"
   ]
  },
  {
   "cell_type": "code",
   "execution_count": 27,
   "metadata": {},
   "outputs": [],
   "source": [
    "ranks[\"RFE\"] = ranking(list(map(float, rfe.ranking_)), colnames, order=-1)"
   ]
  },
  {
   "cell_type": "code",
   "execution_count": 28,
   "metadata": {},
   "outputs": [],
   "source": [
    "lr = LinearRegression(normalize=True)\n",
    "lr.fit(X,y)\n",
    "ranks[\"LinReg\"] = ranking(np.abs(lr.coef_), colnames)\n",
    "\n",
    "# Using Ridge \n",
    "ridge = Ridge(alpha = 7)\n",
    "ridge.fit(X,y)\n",
    "ranks['Ridge'] = ranking(np.abs(ridge.coef_), colnames)\n",
    "\n",
    "# Using Lasso\n",
    "lasso = Lasso(alpha=.05)\n",
    "lasso.fit(X,y)\n",
    "ranks[\"Lasso\"] = ranking(np.abs(lasso.coef_), colnames)"
   ]
  },
  {
   "cell_type": "code",
   "execution_count": 29,
   "metadata": {},
   "outputs": [
    {
     "name": "stderr",
     "output_type": "stream",
     "text": [
      "[Parallel(n_jobs=-1)]: Using backend ThreadingBackend with 8 concurrent workers.\n"
     ]
    },
    {
     "name": "stdout",
     "output_type": "stream",
     "text": [
      "building tree 1 of 50\n",
      "building tree 2 of 50\n",
      "building tree 3 of 50building tree 4 of 50\n",
      "building tree 5 of 50\n",
      "\n",
      "building tree 6 of 50\n",
      "building tree 7 of 50\n",
      "building tree 8 of 50\n",
      "building tree 9 of 50\n",
      "building tree 10 of 50\n",
      "building tree 11 of 50\n",
      "building tree 12 of 50\n",
      "building tree 13 of 50\n",
      "building tree 14 of 50\n",
      "building tree 15 of 50\n",
      "building tree 16 of 50\n",
      "building tree 17 of 50\n",
      "building tree 18 of 50\n",
      "building tree 19 of 50\n",
      "building tree 20 of 50\n",
      "building tree 21 of 50\n",
      "building tree 22 of 50\n",
      "building tree 23 of 50\n",
      "building tree 24 of 50\n"
     ]
    },
    {
     "name": "stderr",
     "output_type": "stream",
     "text": [
      "[Parallel(n_jobs=-1)]: Done  16 tasks      | elapsed:  2.2min\n"
     ]
    },
    {
     "name": "stdout",
     "output_type": "stream",
     "text": [
      "building tree 25 of 50\n",
      "building tree 26 of 50\n",
      "building tree 27 of 50\n",
      "building tree 28 of 50\n",
      "building tree 29 of 50\n",
      "building tree 30 of 50\n",
      "building tree 31 of 50\n",
      "building tree 32 of 50\n",
      "building tree 33 of 50\n",
      "building tree 34 of 50\n",
      "building tree 35 of 50\n",
      "building tree 36 of 50\n",
      "building tree 37 of 50\n",
      "building tree 38 of 50\n",
      "building tree 39 of 50\n",
      "building tree 40 of 50\n",
      "building tree 41 of 50\n",
      "building tree 42 of 50\n",
      "building tree 43 of 50\n",
      "building tree 44 of 50\n",
      "building tree 45 of 50\n",
      "building tree 46 of 50\n",
      "building tree 47 of 50\n",
      "building tree 48 of 50\n",
      "building tree 49 of 50\n",
      "building tree 50 of 50\n"
     ]
    },
    {
     "name": "stderr",
     "output_type": "stream",
     "text": [
      "[Parallel(n_jobs=-1)]: Done  50 out of  50 | elapsed:  6.9min finished\n"
     ]
    }
   ],
   "source": [
    "rf = RandomForestRegressor(n_jobs=-1, n_estimators=50, verbose=3)\n",
    "rf.fit(X,y)\n",
    "ranks[\"RF\"] = ranking(rf.feature_importances_, colnames);"
   ]
  },
  {
   "cell_type": "code",
   "execution_count": 30,
   "metadata": {},
   "outputs": [
    {
     "data": {
      "text/html": [
       "<div>\n",
       "<style scoped>\n",
       "    .dataframe tbody tr th:only-of-type {\n",
       "        vertical-align: middle;\n",
       "    }\n",
       "\n",
       "    .dataframe tbody tr th {\n",
       "        vertical-align: top;\n",
       "    }\n",
       "\n",
       "    .dataframe thead th {\n",
       "        text-align: right;\n",
       "    }\n",
       "</style>\n",
       "<table border=\"1\" class=\"dataframe\">\n",
       "  <thead>\n",
       "    <tr style=\"text-align: right;\">\n",
       "      <th></th>\n",
       "      <th>RFE</th>\n",
       "      <th>LinReg</th>\n",
       "      <th>Ridge</th>\n",
       "      <th>Lasso</th>\n",
       "      <th>RF</th>\n",
       "      <th>Mean</th>\n",
       "    </tr>\n",
       "  </thead>\n",
       "  <tbody>\n",
       "    <tr>\n",
       "      <th>Age_Borrower</th>\n",
       "      <td>0.59</td>\n",
       "      <td>0.0</td>\n",
       "      <td>0.00</td>\n",
       "      <td>0.00</td>\n",
       "      <td>0.76</td>\n",
       "      <td>0.27</td>\n",
       "    </tr>\n",
       "    <tr>\n",
       "      <th>acc_now_delinq</th>\n",
       "      <td>0.02</td>\n",
       "      <td>0.0</td>\n",
       "      <td>0.02</td>\n",
       "      <td>0.00</td>\n",
       "      <td>0.01</td>\n",
       "      <td>0.01</td>\n",
       "    </tr>\n",
       "    <tr>\n",
       "      <th>acc_open_past_24mths</th>\n",
       "      <td>0.94</td>\n",
       "      <td>0.0</td>\n",
       "      <td>0.03</td>\n",
       "      <td>0.21</td>\n",
       "      <td>0.39</td>\n",
       "      <td>0.31</td>\n",
       "    </tr>\n",
       "    <tr>\n",
       "      <th>acc_ratio</th>\n",
       "      <td>1.00</td>\n",
       "      <td>0.0</td>\n",
       "      <td>0.33</td>\n",
       "      <td>0.00</td>\n",
       "      <td>0.81</td>\n",
       "      <td>0.43</td>\n",
       "    </tr>\n",
       "    <tr>\n",
       "      <th>annual_inc</th>\n",
       "      <td>0.18</td>\n",
       "      <td>0.0</td>\n",
       "      <td>0.00</td>\n",
       "      <td>0.00</td>\n",
       "      <td>0.77</td>\n",
       "      <td>0.19</td>\n",
       "    </tr>\n",
       "  </tbody>\n",
       "</table>\n",
       "</div>"
      ],
      "text/plain": [
       "                       RFE  LinReg  Ridge  Lasso    RF  Mean\n",
       "Age_Borrower          0.59     0.0   0.00   0.00  0.76  0.27\n",
       "acc_now_delinq        0.02     0.0   0.02   0.00  0.01  0.01\n",
       "acc_open_past_24mths  0.94     0.0   0.03   0.21  0.39  0.31\n",
       "acc_ratio             1.00     0.0   0.33   0.00  0.81  0.43\n",
       "annual_inc            0.18     0.0   0.00   0.00  0.77  0.19"
      ]
     },
     "execution_count": 30,
     "metadata": {},
     "output_type": "execute_result"
    }
   ],
   "source": [
    "# Se crea un diccionario para almacenar el valor medio calculado a partir de todos los puntajes\n",
    "r = {}\n",
    "for name in colnames:\n",
    "    r[name] = round(np.mean([ranks[method][name] \n",
    "                             for method in ranks.keys()]), 2)\n",
    "\n",
    "metodos = sorted(ranks.keys())\n",
    "ranks[\"Mean\"] = r\n",
    "metodos.append(\"Mean\")\n",
    "ranks_df = pd.DataFrame(ranks)\n",
    "ranks_df.head(5)"
   ]
  },
  {
   "cell_type": "code",
   "execution_count": 31,
   "metadata": {},
   "outputs": [
    {
     "data": {
      "text/plain": [
       "<seaborn.axisgrid.FacetGrid at 0x291c149af60>"
      ]
     },
     "execution_count": 31,
     "metadata": {},
     "output_type": "execute_result"
    },
    {
     "data": {
      "image/png": "[encoded data removed]",
      "text/plain": [
       "<Figure size 1915.2x1008 with 1 Axes>"
      ]
     },
     "metadata": {
      "needs_background": "light"
     },
     "output_type": "display_data"
    }
   ],
   "source": [
    "# Put the mean scores into a Pandas dataframe\n",
    "meanplot = pd.DataFrame(list(r.items()), columns= ['Feature','Mean Ranking'])\n",
    "\n",
    "# Sort the dataframe\n",
    "meanplot = meanplot.sort_values('Mean Ranking', ascending=False)\n",
    "sns.factorplot(x=\"Mean Ranking\", y=\"Feature\", data = meanplot, kind=\"bar\", \n",
    "               size=14, aspect=1.9, palette='coolwarm')"
   ]
  },
  {
   "cell_type": "code",
   "execution_count": 32,
   "metadata": {},
   "outputs": [],
   "source": [
    "top5_features = list(meanplot.sort_values('Mean Ranking', ascending=False)[:5].Feature)"
   ]
  },
  {
   "cell_type": "code",
   "execution_count": 33,
   "metadata": {},
   "outputs": [
    {
     "data": {
      "text/plain": [
       "['hardship_type_INTEREST ONLY-3 MONTHS DEFERRAL',\n",
       " 'hardship_type_NO HARDSHIP PLAN',\n",
       " 'int_rate',\n",
       " 'acc_ratio',\n",
       " 'grade']"
      ]
     },
     "execution_count": 33,
     "metadata": {},
     "output_type": "execute_result"
    }
   ],
   "source": [
    "top5_features"
   ]
  },
  {
   "cell_type": "markdown",
   "metadata": {},
   "source": [
    "### Escalamiento de Variables Independientes\n"
   ]
  },
  {
   "cell_type": "markdown",
   "metadata": {},
   "source": [
    "Ahora escalaremos las variables independientes usando el Standard Scaler (de los datasets de Train y Test)"
   ]
  },
  {
   "cell_type": "code",
   "execution_count": 107,
   "metadata": {
    "scrolled": true
   },
   "outputs": [],
   "source": [
    "scaler = StandardScaler()\n",
    "# Lo entrenamos según las variables del train\n",
    "scaler.fit(X_train)\n",
    "\n",
    "# Transforma los datos de entrenamiento y prueba\n",
    "X_train = pd.DataFrame(scaler.transform(X_train), columns=X_train.columns)\n",
    "X_test = pd.DataFrame(scaler.transform(X_test), columns=X_test.columns)"
   ]
  },
  {
   "cell_type": "markdown",
   "metadata": {},
   "source": [
    "Creamos un diccionario con los valores de Train y Test para ejecutar los modelos."
   ]
  },
  {
   "cell_type": "code",
   "execution_count": 108,
   "metadata": {
    "code_folding": []
   },
   "outputs": [],
   "source": [
    "data_dict = {'X_train':X_train, 'y_train':y_train, \n",
    "           'X_test':X_test, 'y_test':y_test} "
   ]
  },
  {
   "cell_type": "code",
   "execution_count": 109,
   "metadata": {},
   "outputs": [
    {
     "data": {
      "text/plain": [
       "(325634, 60)"
      ]
     },
     "execution_count": 109,
     "metadata": {},
     "output_type": "execute_result"
    }
   ],
   "source": [
    "X_test.shape"
   ]
  },
  {
   "cell_type": "code",
   "execution_count": 110,
   "metadata": {},
   "outputs": [
    {
     "data": {
      "text/plain": [
       "(980547, 60)"
      ]
     },
     "execution_count": 110,
     "metadata": {},
     "output_type": "execute_result"
    }
   ],
   "source": [
    "X_train.shape"
   ]
  },
  {
   "cell_type": "markdown",
   "metadata": {},
   "source": [
    "### Funciones para el procesamiento de los modelos"
   ]
  },
  {
   "cell_type": "markdown",
   "metadata": {},
   "source": [
    "#### Función para buscar los valores óptimos dentro de la cuadricula de busqueda: se ejecuta mediante la función CVGridSearch."
   ]
  },
  {
   "cell_type": "code",
   "execution_count": 36,
   "metadata": {
    "code_folding": []
   },
   "outputs": [],
   "source": [
    "def find_opt_params_on_edge(cv_model):\n",
    "    out = False\n",
    "    \n",
    "    for i in cv_model.param_grid:\n",
    "        if cv_model.best_params_[i] in [ cv_model.param_grid[i][0], cv_model.param_grid[i][-1] ]:\n",
    "            out = True\n",
    "            break\n",
    "            \n",
    "    return out"
   ]
  },
  {
   "cell_type": "markdown",
   "metadata": {},
   "source": [
    "#### Función para imprimir el modelo en un archivo."
   ]
  },
  {
   "cell_type": "code",
   "execution_count": 37,
   "metadata": {
    "code_folding": []
   },
   "outputs": [],
   "source": [
    "def dump_to_output(key, value):\n",
    "    with open(output_file, \"a\") as f:\n",
    "        f.write(\",\".join([str(random_state), key, str(value)]) + \"\\n\")"
   ]
  },
  {
   "cell_type": "markdown",
   "metadata": {},
   "source": [
    "#### Función para calcular la diferencia porcentual entre las mejores y peores puntuaciones mediante la función CVGridSearch"
   ]
  },
  {
   "cell_type": "code",
   "execution_count": 38,
   "metadata": {},
   "outputs": [],
   "source": [
    "def find_score_variation(cv_model):\n",
    "    all_scores = cv_model.cv_results_['mean_test_score']\n",
    "    return( np.abs((max(all_scores) - min(all_scores))) * 100 / max(all_scores) )"
   ]
  },
  {
   "cell_type": "markdown",
   "metadata": {},
   "source": [
    "#### Función Fit Classification, utiliza el CVGridSearch para generar los valores óptimos.\n",
    "Esta función ajustará un modelo de clasificación a los datos e imprimirá varias medidas de evaluación. Espera los siguientes parámetros\n",
    "      - modelo: un objeto modelo sklearn\n",
    "      - data_dict: el diccionario que contiene datos de entrenamiento y prueba.\n",
    "      - cv_parameters: un diccionario de parámetros que debe optimizarse mediante el uso de CVGridSearch. Específicamente, cada cada identificador debe corresponder a un parámetro, y cada elemento debe ser una lista que contenga los valores para optimizar\n",
    "      - nombre_modelo: el nombre del modelo que se está ajustando, para graficos e impresiones.\n",
    "      - random_state: la semilla aleatoria a usar.\n",
    "      - output_to_file: si los resultados se guardarán en el archivo de salida.\n",
    "      - print_to_screen: si los resultados se imprimirán en la pantalla.\n",
    "\n",
    "    Si el modelo proporcionado no tiene una función predict_proba, simplemente se imprimirá diagnósticos de precisión.\n",
    "    Si el modelo proporcionado tiene una función predict_proba, primero se calcula el umbral óptimo que maximiza la precisión e se imprime su diagnóstico. Luego se imprime la curva ROC, la curva de sensibilidad / especificidad y la curva de calibración.\n",
    "    \n",
    "    La función devuelve un diccionario con las siguientes entradas\n",
    "      - modelo: el modelo mejor ajustado según GridSearchCV\n",
    "      - y_pred: predicciones para el dataset Test\n",
    "      - y_pred_probs: predicciones de probabilidad para el el dataset Test, si el modelo las admite.\n",
    "      - y_pred_score: puntajes de predicción para el dataset Test, si el modelo no genera probabilidades."
   ]
  },
  {
   "cell_type": "code",
   "execution_count": 59,
   "metadata": {
    "code_folding": [
     0
    ]
   },
   "outputs": [],
   "source": [
    "def fit_classification(model, data_dict,\n",
    "                          cv_parameters = {},\n",
    "                          model_name = None,\n",
    "                          random_state = random_state,\n",
    "                          output_to_file = True,\n",
    "                          print_to_screen = True,\n",
    "                          get_model = True):\n",
    " \n",
    "    np.random.seed(random_state)\n",
    "    \n",
    "    # --------------------------\n",
    "    #   Paso 1 - Particion del Dataset\n",
    "    # --------------------------\n",
    "    X_train = data_dict['X_train']\n",
    "    y_train = data_dict['y_train']\n",
    "    \n",
    "    X_test = data_dict['X_test']\n",
    "    y_test = data_dict['y_test']\n",
    "    tiempo = ''\n",
    "  \n",
    "    # --------------------------\n",
    "    #   Paso 2 - Ajuste del modelo\n",
    "    # --------------------------\n",
    "    if get_model:\n",
    "        cv_model = GridSearchCV(model, cv_parameters)\n",
    "    \n",
    "        start_time = time.time()\n",
    "        cv_model.fit(X_train, y_train)\n",
    "        end_time = time.time()\n",
    "        best_model = cv_model.best_estimator_\n",
    "        tiempo =str(round(end_time - start_time, 2)) \n",
    "    else:\n",
    "        cv_model = model\n",
    "        tiempo='0'\n",
    "        best_model = model.best_estimator_\n",
    "    \n",
    "    if print_to_screen:\n",
    "\n",
    "        if model_name != None:\n",
    "            print(\"=========================================================\")\n",
    "            print(\"  Modelo: \" + model_name)\n",
    "            print(\"=========================================================\")\n",
    "            \n",
    "\n",
    "        #print(\"Tiempo Ajuste: \" + str(round(end_time - start_time, 2)) + \" seg.\")\n",
    "        print(\"Tiempo Ajuste: \" + tiempo + \" seg.\")\n",
    "        print(\"Párametros óptimos:\")\n",
    "        print(cv_model.best_params_)\n",
    "        print(\"\")\n",
    "\n",
    "    # -------------------------------\n",
    "    #   Paso 3 - Evalua el modelo\n",
    "    # -------------------------------\n",
    "    \n",
    "    # Si es posible, genera las probabilidades de las predicciones\n",
    "    try:\n",
    "        y_pred_probs = best_model.predict_proba(X_test)[:,1]\n",
    "        fpr, tpr, thresholds = roc_curve(y_test, y_pred_probs)\n",
    "        \n",
    "        probs_predicted = True\n",
    "    except:\n",
    "        probs_predicted = False\n",
    "    \n",
    "    # Estima las predicciones; Si se tiene las probabilidades, usa el umbral que maximice \n",
    "    # la precisión en el dataset Train. \n",
    "    # Si no, simplemente use la función de predicción de aprendizaje (demo)\n",
    "    if probs_predicted:\n",
    "        y_train_pred_probs = best_model.predict_proba(X_train)[:,1]\n",
    "        fpr_train, tpr_train, thresholds_train = roc_curve(y_train, y_train_pred_probs)\n",
    "        \n",
    "        true_pos_train = tpr_train*(y_train.sum())\n",
    "        true_neg_train = (1 - fpr_train) *(1-y_train).sum()\n",
    "        \n",
    "        best_threshold_index = np.argmax(true_pos_train + true_neg_train)\n",
    "        best_threshold = 1 if best_threshold_index == 0 else thresholds_train[ best_threshold_index ]\n",
    "        \n",
    "        if print_to_screen:\n",
    "            print(\"El umbral de máxima precisión fue: \" + str(best_threshold))\n",
    "        \n",
    "        y_pred = (y_pred_probs > best_threshold)\n",
    "    else:\n",
    "        y_pred = best_model.predict(X_test)\n",
    "    scores = {}\n",
    "    if print_to_screen:\n",
    "        print(\"Accuracy: \", accuracy_score(y_test, y_pred))\n",
    "        print(classification_report(y_test, y_pred, target_names =['No default', 'Default'], digits = 4))\n",
    "    scores['Accuracy'] = accuracy_score(y_test, y_pred)\n",
    "    scores['precision'] = precision_score(y_test, y_pred)\n",
    "    scores['recall'] = recall_score(y_test, y_pred)\n",
    "    scores['f1'] = f1_score(y_test, y_pred)\n",
    "    scores['roc_auc_score'] = roc_auc_score(y_test, y_pred_probs)\n",
    "    if print_to_screen:\n",
    "        if probs_predicted:        \n",
    "            plt.figure(figsize = (13, 4.5))\n",
    "            plt.subplot(2, 2, 1)\n",
    "\n",
    "            plt.title(\"Curva ROC (AUC = %0.2f)\"% roc_auc_score(y_test, y_pred_probs))\n",
    "            plt.plot(fpr, tpr, 'b')\n",
    "            plt.plot([0,1],[0,1],'r--')\n",
    "            plt.xlim([0,1]); plt.ylim([0,1])\n",
    "            plt.ylabel('Ratio de Verdaderos Positivos')\n",
    "            plt.xlabel('Ratio de Falsos Positivos')\n",
    "\n",
    "            plt.subplot(2, 2, 3)\n",
    "\n",
    "            plt.plot(thresholds, tpr, 'b', label = 'Sensitivity')\n",
    "            plt.plot(thresholds, 1 -fpr, 'r', label = 'Specificity')\n",
    "            plt.legend(loc = 'lower right')\n",
    "            plt.xlim([0,1]); plt.ylim([0,1])\n",
    "            plt.xlabel('Umbral')\n",
    "\n",
    "            plt.subplot(2, 2, 2)\n",
    "\n",
    "            fp_0, mpv_0 = calibration_curve(y_test, y_pred_probs, n_bins = 10)\n",
    "            plt.plot([0,1], [0,1], 'k:', label='Perfectamente calibrado')\n",
    "            plt.plot(mpv_0, fp_0, 's-')\n",
    "            plt.ylabel('Porcentaje de Positivos')\n",
    "            plt.xlim([0,1]); plt.ylim([0,1])\n",
    "            plt.legend(loc ='upper left')\n",
    "            \n",
    "            plt.subplot(2, 2, 4)\n",
    "            plt.hist(y_pred_probs, range=(0, 1), bins=10, histtype=\"step\", lw=2)\n",
    "            plt.xlim([0,1]); plt.ylim([0,20000])\n",
    "            plt.xlabel('Probabilidad media Pronosticada Correcta')\n",
    "            plt.ylabel('Cuenta')\n",
    "            \n",
    "            plt.show()\n",
    "    \n",
    "    # Retorna las predicciones y el dataset Test\n",
    "    # -------------------------------------\n",
    "    out = {'model':best_model, 'y_pred_labels':y_pred}\n",
    "    \n",
    "    if probs_predicted:\n",
    "        out.update({'y_pred_probs':y_pred_probs})\n",
    "    else:\n",
    "        y_pred_score = best_model.decision_function(X_test)\n",
    "        out.update({'y_pred_score':y_pred_score})\n",
    "        \n",
    "    # Resultados de Salida guardados en Archivo\n",
    "    # ----------------------\n",
    "    if probs_predicted and output_to_file:\n",
    "        if get_model:\n",
    "            # Se comprueba si alguno de los parámetros de CV está en el borde del espacio de búsqueda\n",
    "            opt_params_on_edge = find_opt_params_on_edge(cv_model)\n",
    "            dump_to_output(model_name + \"::search_on_edge\", opt_params_on_edge)\n",
    "            if print_to_screen:\n",
    "                print(\"Hay párametros en los extremos? : \" + str(opt_params_on_edge))\n",
    "\n",
    "            # Revisa cuán diferentes son los puntajes para los diferentes valores probados por validación cruzada. \n",
    "            # Si no son muy diferentes e incluso si los parámetros están fuera del borde de la cuadrícula de búsqueda, \n",
    "            # si esto no sucede deberían estar bien\n",
    "            score_variation = find_score_variation(cv_model)\n",
    "            dump_to_output(model_name + \"::score_variation\", score_variation)\n",
    "            if print_to_screen:\n",
    "                print(\"Variaciones de Puntaje en CV search grid : \" + str(score_variation))\n",
    "\n",
    "            # Imprime los puntajes\n",
    "            dump_to_output(model_name + \"::all_cv_scores\", str(cv_model.cv_results_['mean_test_score']))\n",
    "            if print_to_screen:\n",
    "                print( str(cv_model.cv_results_['mean_test_score']) )\n",
    "        \n",
    "        # Se guarda la curva ROC\n",
    "        dump_to_output(model_name + \"::roc_auc\", roc_auc_score(y_test, y_pred_probs) )\n",
    "        \n",
    "    return out,scores"
   ]
  },
  {
   "cell_type": "markdown",
   "metadata": {},
   "source": [
    "#### Función Matriz de Confusión\n",
    "Se utiliza la libreria Matplotlib para mostrar la matriz de confusión de forma gráfica, con sombreados y porcentajes de los Verdaderos Positivos, Falsos Positivos y Falsos Negativos.\n",
    "Los párametros de entrada son los valores reales y los prónosticados del modelo."
   ]
  },
  {
   "cell_type": "code",
   "execution_count": 40,
   "metadata": {
    "code_folding": []
   },
   "outputs": [],
   "source": [
    "def plot_confusion_matrix(actual, predicted, normalize=False): \n",
    "    cm = confusion_matrix(actual, predicted)\n",
    "    classes=[\"No Default\", \"Default\"]\n",
    "    cmap = plt.cm.Blues\n",
    "    title = \"Matriz Confusión\"\n",
    "    if normalize:\n",
    "        cm = cm.astype('float') / cm.sum(axis=1)[:, np.newaxis]\n",
    "        cm = np.around(cm, decimals=3)\n",
    "    plt.imshow(cm, interpolation='nearest', cmap=cmap)\n",
    "    plt.title(title)\n",
    "    plt.colorbar()\n",
    "    tick_marks = np.arange(len(classes))\n",
    "    plt.xticks(tick_marks, classes, rotation=45)\n",
    "    plt.yticks(tick_marks, classes)\n",
    "    thresh = cm.max() / 2.\n",
    "    for i, j in itertools.product(range(cm.shape[0]), range(cm.shape[1])):\n",
    "        plt.text(j, i, cm[i, j],\n",
    "                 horizontalalignment=\"center\",\n",
    "                 color=\"white\" if cm[i, j] > thresh else \"black\")\n",
    "    plt.tight_layout()\n",
    "    plt.ylabel('Real')\n",
    "    plt.xlabel('Prónostico')"
   ]
  },
  {
   "cell_type": "markdown",
   "metadata": {},
   "source": [
    "## Modelos\n"
   ]
  },
  {
   "cell_type": "markdown",
   "metadata": {},
   "source": [
    "### Modelo Regresión Logístico"
   ]
  },
  {
   "cell_type": "markdown",
   "metadata": {},
   "source": [
    "El problema que resuelve la regresión logística es expresar la probabilidad de cierto desenlace (Y=1) en función de n variables X1, X2 … Xn las cuales pueden ser de cualquier naturaleza (continuas, discretas, dicotómicas, ordinales o nominales, aunque en este último caso han de manejarse a través de variables dummy). Concretamente, el resultado fundamental del modelo consiste en hallar los coeficientes β0, β1 … βr, que mejor se ajustan al resultado.\n",
    "A continuación, generamos un modelo de regresión logística mediante la libreria GridSearchCV para obtener los mejores hiperparametros. Adicionalmente le asignamos la penalidad de L2 (Ridge)."
   ]
  },
  {
   "cell_type": "code",
   "execution_count": 115,
   "metadata": {},
   "outputs": [
    {
     "name": "stdout",
     "output_type": "stream",
     "text": [
      "=========================================================\n",
      "  Modelo: Regression Logistica 1\n",
      "=========================================================\n",
      "Tiempo Ajuste: 213.83 seg.\n",
      "Párametros óptimos:\n",
      "{'C': 10}\n",
      "\n",
      "El umbral de máxima precisión fue: 0.4999277518041644\n",
      "Accuracy:  0.7936241301583987\n",
      "              precision    recall  f1-score   support\n",
      "\n",
      "  No default     0.8046    0.9741    0.8813    256031\n",
      "     Default     0.5766    0.1297    0.2118     69603\n",
      "\n",
      "    accuracy                         0.7936    325634\n",
      "   macro avg     0.6906    0.5519    0.5465    325634\n",
      "weighted avg     0.7559    0.7936    0.7382    325634\n",
      "\n"
     ]
    },
    {
     "data": {
      "image/png": "[encoded data removed]",
      "text/plain": [
       "<Figure size 936x324 with 4 Axes>"
      ]
     },
     "metadata": {
      "needs_background": "light"
     },
     "output_type": "display_data"
    },
    {
     "name": "stdout",
     "output_type": "stream",
     "text": [
      "Hay párametros en los extremos? : True\n",
      "Variaciones de Puntaje en CV search grid : 0.005273306033272236\n",
      "[0.79292579 0.79292375 0.79292273 0.79288397]\n"
     ]
    },
    {
     "data": {
      "text/plain": [
       "({'model': LogisticRegression(C=10, class_weight=None, dual=False, fit_intercept=True,\n",
       "                     intercept_scaling=1, l1_ratio=None, max_iter=100,\n",
       "                     multi_class='auto', n_jobs=None, penalty='l2',\n",
       "                     random_state=None, solver='lbfgs', tol=0.0001, verbose=0,\n",
       "                     warm_start=False),\n",
       "  'y_pred_labels': array([False, False, False, ..., False, False, False]),\n",
       "  'y_pred_probs': array([0.16617308, 0.13254445, 0.29893767, ..., 0.29290151, 0.07914517,\n",
       "         0.17591734])},\n",
       " {'Accuracy': 0.7936241301583987,\n",
       "  'precision': 0.5766479305058764,\n",
       "  'recall': 0.12970705285691708,\n",
       "  'f1': 0.21177822869139917,\n",
       "  'roc_auc_score': 0.72432327313836})"
      ]
     },
     "execution_count": 115,
     "metadata": {},
     "output_type": "execute_result"
    }
   ],
   "source": [
    "log1 = LogisticRegression(penalty='l2')\n",
    "cv_parameters = {'C':[10, 1, .1, .001]}\n",
    "\n",
    "log1,scores = fit_classification(log1,data_dict,cv_parameters,'Regression Logistica 1',\n",
    "                                 random_state, True, True)\n",
    "log1,scores"
   ]
  },
  {
   "cell_type": "markdown",
   "metadata": {},
   "source": [
    "Este Modelo obtuvo un accuracy de 0.79, con una curva ROC de 0.72."
   ]
  },
  {
   "cell_type": "code",
   "execution_count": 116,
   "metadata": {},
   "outputs": [
    {
     "data": {
      "image/png": "[encoded data removed]",
      "text/plain": [
       "<Figure size 432x288 with 2 Axes>"
      ]
     },
     "metadata": {
      "needs_background": "light"
     },
     "output_type": "display_data"
    }
   ],
   "source": [
    "plot_confusion_matrix(y_test,log1['y_pred_labels'],normalize=True)"
   ]
  },
  {
   "cell_type": "code",
   "execution_count": 117,
   "metadata": {},
   "outputs": [
    {
     "data": {
      "image/png": "[encoded data removed]",
      "text/plain": [
       "<Figure size 432x288 with 2 Axes>"
      ]
     },
     "metadata": {
      "needs_background": "light"
     },
     "output_type": "display_data"
    }
   ],
   "source": [
    "plot_confusion_matrix(y_test,log1['y_pred_labels'],normalize=False)"
   ]
  },
  {
   "cell_type": "markdown",
   "metadata": {},
   "source": [
    "Mediante la libreria pickle guardamos el modelo en un archivo sav."
   ]
  },
  {
   "cell_type": "code",
   "execution_count": 118,
   "metadata": {},
   "outputs": [],
   "source": [
    "filename = 'logistic_rfe.sav'\n",
    "pickle.dump(log1['model'], open(filename, 'wb'))"
   ]
  },
  {
   "cell_type": "markdown",
   "metadata": {},
   "source": [
    "### Gradient Boost\n",
    "Es una técnica de aprendizaje automático utilizado para el análisis de la regresión y para problemas de clasificación estadística, el cual produce un modelo predictivo en forma de un conjunto de modelos de predicción débiles, típicamente árboles de decisión. Construye el modelo de forma escalonada como lo hacen otros métodos de boosting, y los generaliza permitiendo la optimización arbitraria de una función de pérdida diferenciable.\n",
    "\n",
    "De forma similar a los anteriores modelos, se utilizará la función GridSearchCV para obtener los estimadores óptimos del Gradient Boost."
   ]
  },
  {
   "cell_type": "code",
   "execution_count": 49,
   "metadata": {},
   "outputs": [],
   "source": [
    "xgb = XGBClassifier(learning_rate=0.02, n_estimators=600, objective='binary:logistic',\n",
    "                    silent=True, nthread=1)"
   ]
  },
  {
   "cell_type": "code",
   "execution_count": 50,
   "metadata": {},
   "outputs": [],
   "source": [
    "folds = 3\n",
    "param_comb = 5\n",
    "\n",
    "skf = StratifiedKFold(n_splits=folds, shuffle = True, random_state = random_state)"
   ]
  },
  {
   "cell_type": "code",
   "execution_count": 52,
   "metadata": {},
   "outputs": [],
   "source": [
    "params = {\n",
    "        'min_child_weight': [1, 5, 10],\n",
    "        'gamma': [0.5, 1, 1.5, 2, 5],\n",
    "        'subsample': [0.6, 0.8, 1.0],\n",
    "        'colsample_bytree': [0.6, 0.8, 1.0],\n",
    "        'max_depth': [3, 4, 5]\n",
    "        }\n",
    "random_search = RandomizedSearchCV(xgb, param_distributions=params, n_iter=param_comb, \n",
    "                                   scoring='roc_auc', n_jobs=4, cv=skf.split(X_train,y_train), \n",
    "                                   verbose=3, random_state=random_state )"
   ]
  },
  {
   "cell_type": "code",
   "execution_count": 53,
   "metadata": {},
   "outputs": [],
   "source": [
    "def timer(start_time=None):\n",
    "    if not start_time:\n",
    "        start_time = datetime.now()\n",
    "        return start_time\n",
    "    elif start_time:\n",
    "        thour, temp_sec = divmod((datetime.now() - start_time).total_seconds(), 3600)\n",
    "        tmin, tsec = divmod(temp_sec, 60)\n",
    "        print('\\n Time taken: %i hours %i minutes and %s seconds.' % (thour, tmin, round(tsec, 2)))"
   ]
  },
  {
   "cell_type": "code",
   "execution_count": 55,
   "metadata": {
    "scrolled": true
   },
   "outputs": [
    {
     "name": "stdout",
     "output_type": "stream",
     "text": [
      "Fitting 3 folds for each of 5 candidates, totalling 15 fits\n"
     ]
    },
    {
     "name": "stderr",
     "output_type": "stream",
     "text": [
      "[Parallel(n_jobs=4)]: Using backend LokyBackend with 4 concurrent workers.\n",
      "[Parallel(n_jobs=4)]: Done  15 out of  15 | elapsed: 81.1min finished\n"
     ]
    },
    {
     "name": "stdout",
     "output_type": "stream",
     "text": [
      "\n",
      " Time taken: 1 hours 44 minutes and 58.14 seconds.\n"
     ]
    }
   ],
   "source": [
    "from datetime import datetime\n",
    "start_time = timer(None) # timing starts from this point for \"start_time\" variable\n",
    "random_search.fit(X_train,y_train)\n",
    "timer(start_time) # timing ends here for \"start_time\" variable"
   ]
  },
  {
   "cell_type": "code",
   "execution_count": 56,
   "metadata": {},
   "outputs": [
    {
     "name": "stdout",
     "output_type": "stream",
     "text": [
      "\n",
      " All results:\n",
      "{'mean_fit_time': array([1642.78744006, 1482.13761957,  716.96459587, 1135.65305495,\n",
      "        895.70709769]), 'std_fit_time': array([ 10.9738508 ,  17.02004274,   2.05874163,  16.02481082,\n",
      "       129.36871401]), 'mean_score_time': array([ 9.69854132, 11.88606524,  7.59442449,  7.17233992,  8.54264959]), 'std_score_time': array([0.12785238, 0.05893137, 0.05095103, 0.39260283, 0.72765988]), 'param_subsample': masked_array(data=[0.6, 1.0, 1.0, 0.8, 0.6],\n",
      "             mask=[False, False, False, False, False],\n",
      "       fill_value='?',\n",
      "            dtype=object), 'param_min_child_weight': masked_array(data=[5, 5, 1, 5, 5],\n",
      "             mask=[False, False, False, False, False],\n",
      "       fill_value='?',\n",
      "            dtype=object), 'param_max_depth': masked_array(data=[4, 5, 3, 3, 4],\n",
      "             mask=[False, False, False, False, False],\n",
      "       fill_value='?',\n",
      "            dtype=object), 'param_gamma': masked_array(data=[1, 2, 0.5, 5, 0.5],\n",
      "             mask=[False, False, False, False, False],\n",
      "       fill_value='?',\n",
      "            dtype=object), 'param_colsample_bytree': masked_array(data=[1.0, 0.8, 0.6, 1.0, 0.6],\n",
      "             mask=[False, False, False, False, False],\n",
      "       fill_value='?',\n",
      "            dtype=object), 'params': [{'subsample': 0.6, 'min_child_weight': 5, 'max_depth': 4, 'gamma': 1, 'colsample_bytree': 1.0}, {'subsample': 1.0, 'min_child_weight': 5, 'max_depth': 5, 'gamma': 2, 'colsample_bytree': 0.8}, {'subsample': 1.0, 'min_child_weight': 1, 'max_depth': 3, 'gamma': 0.5, 'colsample_bytree': 0.6}, {'subsample': 0.8, 'min_child_weight': 5, 'max_depth': 3, 'gamma': 5, 'colsample_bytree': 1.0}, {'subsample': 0.6, 'min_child_weight': 5, 'max_depth': 4, 'gamma': 0.5, 'colsample_bytree': 0.6}], 'split0_test_score': array([0.73357153, 0.73474075, 0.72997672, 0.73066967, 0.7331021 ]), 'split1_test_score': array([0.73505179, 0.73620612, 0.73123313, 0.73188598, 0.73460742]), 'split2_test_score': array([0.7351802 , 0.73649652, 0.731585  , 0.73209576, 0.73480816]), 'mean_test_score': array([0.73460117, 0.73581446, 0.73093162, 0.73155047, 0.73417256]), 'std_test_score': array([0.00072995, 0.00076843, 0.00069033, 0.00062868, 0.00076135]), 'rank_test_score': array([2, 1, 5, 4, 3])}\n",
      "\n",
      " Best estimator:\n",
      "XGBClassifier(base_score=0.5, booster='gbtree', colsample_bylevel=1,\n",
      "              colsample_bynode=1, colsample_bytree=0.8, gamma=2,\n",
      "              learning_rate=0.02, max_delta_step=0, max_depth=5,\n",
      "              min_child_weight=5, missing=None, n_estimators=600, n_jobs=1,\n",
      "              nthread=1, objective='binary:logistic', random_state=0,\n",
      "              reg_alpha=0, reg_lambda=1, scale_pos_weight=1, seed=None,\n",
      "              silent=True, subsample=1.0, verbosity=1)\n",
      "\n",
      " Best normalized gini score for 3-fold search with 5 parameter combinations:\n",
      "0.47162892139276447\n",
      "\n",
      " Best hyperparameters:\n",
      "{'subsample': 1.0, 'min_child_weight': 5, 'max_depth': 5, 'gamma': 2, 'colsample_bytree': 0.8}\n"
     ]
    }
   ],
   "source": [
    "print('\\n All results:')\n",
    "print(random_search.cv_results_)\n",
    "print('\\n Best estimator:')\n",
    "print(random_search.best_estimator_)\n",
    "print('\\n Best normalized gini score for %d-fold search with %d parameter combinations:' % (folds, param_comb))\n",
    "print(random_search.best_score_ * 2 - 1)\n",
    "print('\\n Best hyperparameters:')\n",
    "print(random_search.best_params_)\n",
    "results = pd.DataFrame(random_search.cv_results_)\n",
    "results.to_csv('xgb-random-grid-search-results-01.csv', index=False)"
   ]
  },
  {
   "cell_type": "code",
   "execution_count": 111,
   "metadata": {},
   "outputs": [
    {
     "name": "stdout",
     "output_type": "stream",
     "text": [
      "=========================================================\n",
      "  Modelo: Gradient Boost\n",
      "=========================================================\n",
      "Tiempo Ajuste: 0 seg.\n",
      "Párametros óptimos:\n",
      "{'subsample': 1.0, 'min_child_weight': 5, 'max_depth': 5, 'gamma': 2, 'colsample_bytree': 0.8}\n",
      "\n",
      "El umbral de máxima precisión fue: 0.48066336\n",
      "Accuracy:  0.7964555298279664\n",
      "              precision    recall  f1-score   support\n",
      "\n",
      "  No default     0.8086    0.9709    0.8824    256031\n",
      "     Default     0.5913    0.1546    0.2451     69603\n",
      "\n",
      "    accuracy                         0.7965    325634\n",
      "   macro avg     0.6999    0.5628    0.5637    325634\n",
      "weighted avg     0.7621    0.7965    0.7462    325634\n",
      "\n"
     ]
    },
    {
     "data": {
      "image/png": "[encoded data removed]",
      "text/plain": [
       "<Figure size 936x324 with 4 Axes>"
      ]
     },
     "metadata": {
      "needs_background": "light"
     },
     "output_type": "display_data"
    }
   ],
   "source": [
    "rs1,scores = fit_classification(random_search,data_dict,params,'Gradient Boost',\n",
    "                                 random_state, True, True, False)"
   ]
  },
  {
   "cell_type": "code",
   "execution_count": 112,
   "metadata": {},
   "outputs": [
    {
     "data": {
      "image/png": "[encoded data removed]",
      "text/plain": [
       "<Figure size 432x288 with 2 Axes>"
      ]
     },
     "metadata": {
      "needs_background": "light"
     },
     "output_type": "display_data"
    }
   ],
   "source": [
    "plot_confusion_matrix(y_test,rs1['y_pred_labels'],normalize=True)"
   ]
  },
  {
   "cell_type": "code",
   "execution_count": 113,
   "metadata": {},
   "outputs": [
    {
     "data": {
      "image/png": "[encoded data removed]",
      "text/plain": [
       "<Figure size 432x288 with 2 Axes>"
      ]
     },
     "metadata": {
      "needs_background": "light"
     },
     "output_type": "display_data"
    }
   ],
   "source": [
    "plot_confusion_matrix(y_test,rs1['y_pred_labels'])"
   ]
  },
  {
   "cell_type": "code",
   "execution_count": 65,
   "metadata": {},
   "outputs": [
    {
     "data": {
      "text/plain": [
       "980547"
      ]
     },
     "execution_count": 65,
     "metadata": {},
     "output_type": "execute_result"
    }
   ],
   "source": [
    "len(rs1['y_pred_labels'])"
   ]
  },
  {
   "cell_type": "code",
   "execution_count": 114,
   "metadata": {},
   "outputs": [],
   "source": [
    "modelo=rs1['model']\n",
    "filename = 'gradboost.sav'\n",
    "pickle.dump(modelo, open(filename, 'wb'))"
   ]
  },
  {
   "cell_type": "markdown",
   "metadata": {},
   "source": [
    "Se obtuvo un modelo Gradient Boost con un accuracy de 0.7971 y con una curva ROC de 0.74. La mejor a comparación de la Regresión Logística."
   ]
  },
  {
   "cell_type": "markdown",
   "metadata": {},
   "source": [
    "## Conclusiones"
   ]
  },
  {
   "cell_type": "markdown",
   "metadata": {},
   "source": [
    "* Con el conjunto de datos Train y Test entregado en la clase realizamos los ajustes como conversion de variables categoricas a dummy y selección de las variables según la prueba del T-student y el Chi Square.\n",
    "* Con las funciones de Grid Search y Randomized Search obtenemos los modelos de Regresión logística.\n",
    "* El mejor modelo resulto ser el Gradient Boost."
   ]
  }
 ],
 "metadata": {
  "kernelspec": {
   "display_name": "Python 3",
   "language": "python",
   "name": "python3"
  },
  "language_info": {
   "codemirror_mode": {
    "name": "ipython",
    "version": 3
   },
   "file_extension": ".py",
   "mimetype": "text/x-python",
   "name": "python",
   "nbconvert_exporter": "python",
   "pygments_lexer": "ipython3",
   "version": "3.7.3"
  },
  "toc": {
   "base_numbering": 1,
   "nav_menu": {},
   "number_sections": true,
   "sideBar": true,
   "skip_h1_title": true,
   "title_cell": "Table of Contents",
   "title_sidebar": "Contents",
   "toc_cell": true,
   "toc_position": {
    "height": "calc(100% - 180px)",
    "left": "10px",
    "top": "150px",
    "width": "263.775px"
   },
   "toc_section_display": true,
   "toc_window_display": false
  }
 },
 "nbformat": 4,
 "nbformat_minor": 2
}
