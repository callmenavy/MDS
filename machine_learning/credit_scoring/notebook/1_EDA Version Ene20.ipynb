{
 "cells": [
  {
   "cell_type": "markdown",
   "metadata": {
    "toc": true
   },
   "source": [
    "<h1>Table of Contents<span class=\"tocSkip\"></span></h1>\n",
    "<div class=\"toc\"><ul class=\"toc-item\"><li><span><a href=\"#Objetivos\" data-toc-modified-id=\"Objetivos-1\"><span class=\"toc-item-num\">1&nbsp;&nbsp;</span>Objetivos</a></span></li><li><span><a href=\"#KPI\" data-toc-modified-id=\"KPI-2\"><span class=\"toc-item-num\">2&nbsp;&nbsp;</span>KPI</a></span></li><li><span><a href=\"#Datos\" data-toc-modified-id=\"Datos-3\"><span class=\"toc-item-num\">3&nbsp;&nbsp;</span>Datos</a></span></li><li><span><a href=\"#Análisis-Exploratorio-(EDA)\" data-toc-modified-id=\"Análisis-Exploratorio-(EDA)-4\"><span class=\"toc-item-num\">4&nbsp;&nbsp;</span>Análisis Exploratorio (EDA)</a></span><ul class=\"toc-item\"><li><span><a href=\"#Target-Variable\" data-toc-modified-id=\"Target-Variable-4.1\"><span class=\"toc-item-num\">4.1&nbsp;&nbsp;</span>Target Variable</a></span></li><li><span><a href=\"#Variables-Independientes\" data-toc-modified-id=\"Variables-Independientes-4.2\"><span class=\"toc-item-num\">4.2&nbsp;&nbsp;</span>Variables Independientes</a></span></li></ul></li><li><span><a href=\"#Selección-de-Variables\" data-toc-modified-id=\"Selección-de-Variables-5\"><span class=\"toc-item-num\">5&nbsp;&nbsp;</span>Selección de Variables</a></span></li></ul></div>"
   ]
  },
  {
   "cell_type": "markdown",
   "metadata": {},
   "source": [
    "# Práctica Final\n",
    "* Curso: Machine Learning\n",
    "* Integrantes: \n",
    "    * Marina Ortín\n",
    "    * Mayra Goicochea\n"
   ]
  },
  {
   "cell_type": "code",
   "execution_count": 1,
   "metadata": {},
   "outputs": [],
   "source": [
    "import pandas as pd\n",
    "import numpy as np"
   ]
  },
  {
   "cell_type": "markdown",
   "metadata": {},
   "source": [
    "## Objetivos"
   ]
  },
  {
   "cell_type": "markdown",
   "metadata": {},
   "source": [
    "El objetivo de este ejercicio es el desarrollo de un modelo que permita la identificación de prestamistas que puedan realizar un impago en el crédito concedido. En este sentido, probaremos varios modelos, desde regresión logística a XGBoost, con el objetivo de encontrar el modelo óptimo. En este sentido, nos remitimos al apartado \"KPI\", en el que definimos los indicadores de desempeño que guiarán nuestra decisión.\n",
    "\n",
    "Para ello, es necesario analizar qué variables son determinantes para la concesión del crédito. Este estudio se puede encontrar en el epígrafe \"Análisis exploratorio (EDA)\".\n"
   ]
  },
  {
   "cell_type": "markdown",
   "metadata": {},
   "source": [
    "## KPI"
   ]
  },
  {
   "cell_type": "markdown",
   "metadata": {},
   "source": [
    "En este apartado describiremos brevemente los indicadores de *performance* que utilizaremos para elegir el mejor modelo.\n",
    "\n",
    "Aunque nos basaremos en la medida de *accuracy*, tomaremos otras medidas adicionales, como la matriz de confusión, área bajo la curva (AUC) y F1 Score."
   ]
  },
  {
   "cell_type": "markdown",
   "metadata": {},
   "source": [
    "Definimos **accuracy** como el ratio entre el número de predicciones correctas realizadas por el modelo y el número total de observaciones *input*.\n",
    "Se trata de la medida básica que utilizamos para la selección de modelos; sin embargo, realizaremos cálculos adicionales como:\n",
    "\n",
    "* **Matriz de confusión**: se trata de una matriz que describe, de forma completa, el desempeño del modelo. De esta forma, se puede observar en la diagonal principal el número de aciertos del modelo, así como los falsos negativos y falsos positivos que ha devuelto.\n",
    "\n",
    "* **Área bajo la curva (AUC), curva ROC**: esta medida es ampliamente utilizada en problemas de clasificación binaria, como este. Se trata de una representación gráfica que, dado un umbral de clasificación, representa sensibilidad y especificidad del modelo.\n",
    "\n",
    "* **F1 Score**: se trata de una medida de la accuracy. Matemáticamente, se calcula como la media armónica entre precisión y recall. Cabe recordar, en este sentido, que la precisión se define como el número de positivos acertados sobre el número de aciertos total.\n",
    "\n",
    "$Precision = \\frac{TruePositives}{TruePositives + FalsePositives}$\n",
    "\n",
    "Mientras que el recall es el número de verdaderos positivos sobre el total de muestras que deberían haberse identificado como positivas.\n",
    "\n",
    "$Recall = \\frac{TruePositives}{TruePositives + FalseNegatives}$"
   ]
  },
  {
   "cell_type": "markdown",
   "metadata": {},
   "source": [
    "## Datos"
   ]
  },
  {
   "cell_type": "markdown",
   "metadata": {},
   "source": []
  },
  {
   "cell_type": "markdown",
   "metadata": {},
   "source": [
    "Mediante revisión previa en el archivo del dataset, se observa que tiene 2.260.668 registros almacenados con 145 columnas. \n",
    "La columna id, member_id y url no tienen propiedad discriminante para el análisis de concesión de créditos es así que no serán consideradas en el dataset final.\n",
    "También se muestra que se tiene una columna loan_status de la cual se considerará sólo las categorías \"Default\",\"Charged Off\" y \"Fully Paid\" que se trata de préstamos históricos que tomaremos de referencia para detectar las dos clases \"Default\" (préstamos impagos) y \"No Default\" (préstamos pagados).\n",
    "Dada éstas condiciones se procede a la carga del pandas dataframe loan con estas restricciones:"
   ]
  },
  {
   "cell_type": "code",
   "execution_count": 2,
   "metadata": {},
   "outputs": [],
   "source": [
    "data_path_train = '../data/training_set.csv'\n",
    "data_path_test = '../data/test_set.csv'"
   ]
  },
  {
   "cell_type": "code",
   "execution_count": 3,
   "metadata": {
    "scrolled": false
   },
   "outputs": [],
   "source": [
    "loan_train = pd.read_csv(data_path_train)\n",
    "loan_train.drop('Unnamed: 0', axis=1,inplace=True)"
   ]
  },
  {
   "cell_type": "code",
   "execution_count": 4,
   "metadata": {},
   "outputs": [],
   "source": [
    "loan_test = pd.read_csv(data_path_test)\n",
    "loan_test.drop('Unnamed: 0', axis=1,inplace=True)"
   ]
  },
  {
   "cell_type": "markdown",
   "metadata": {},
   "source": [
    "## Análisis Exploratorio (EDA)"
   ]
  },
  {
   "cell_type": "markdown",
   "metadata": {},
   "source": [
    "### Target Variable"
   ]
  },
  {
   "cell_type": "code",
   "execution_count": 5,
   "metadata": {},
   "outputs": [],
   "source": [
    "loan_train['credit_risk'] = loan_train['target']\n",
    "loan_train.drop('target', axis=1, inplace=True)"
   ]
  },
  {
   "cell_type": "code",
   "execution_count": 6,
   "metadata": {},
   "outputs": [],
   "source": [
    "loan_test['credit_risk'] = loan_test['target']\n",
    "loan_test.drop('target', axis=1, inplace=True)"
   ]
  },
  {
   "cell_type": "code",
   "execution_count": 7,
   "metadata": {},
   "outputs": [],
   "source": [
    "loan_train = loan_train[loan_train.application_type == 'Individual']\n",
    "loan_test = loan_test[loan_test.application_type == 'Individual']"
   ]
  },
  {
   "cell_type": "markdown",
   "metadata": {},
   "source": [
    "### Variables Independientes"
   ]
  },
  {
   "cell_type": "code",
   "execution_count": 8,
   "metadata": {
    "code_folding": [
     1
    ]
   },
   "outputs": [],
   "source": [
    "# Función para visualizar las características con valores faltantes, porcentaje % de valores totales, y tipo de dato.\n",
    "def missing_values_table(df):\n",
    "     # valores faltantes\n",
    "    mis_val = df.isnull().sum()\n",
    "    # Porcentaje de valores faltantes\n",
    "    mis_val_percent = 100 * df.isnull().sum() / len(df)\n",
    "    mis_val_type = df.dtypes\n",
    "    # Se crea la tabla con los resultados\n",
    "    mis_val_table = pd.concat([mis_val, mis_val_percent, mis_val_type], axis=1)\n",
    "     # Renombrar las columnas\n",
    "    mis_val_table_ren_columns = mis_val_table.rename(columns = {0 : 'Missing Values', 1 : '% of Total Values', 2: 'type'})\n",
    "    # Ordenamos la tabla de forma descendente\n",
    "    mis_val_table_ren_columns = mis_val_table_ren_columns[ mis_val_table_ren_columns.iloc[:,1] != 0].sort_values('% of Total Values', ascending=False).round(1)\n",
    "    # Se imprime el resumen\n",
    "    print (\"Your selected dataframe has \" + str(df.shape[1]) + \" columns.\\n\" \"There are \" + str(mis_val_table_ren_columns.shape[0]) + \" columns that have missing values.\")\n",
    "    # Retorna la información ausente\n",
    "    return mis_val_table_ren_columns"
   ]
  },
  {
   "cell_type": "code",
   "execution_count": 9,
   "metadata": {},
   "outputs": [],
   "source": [
    "loan_train['loan_amnt'].describe() #0-40k\n",
    "buck = [0, 5000, 10000, 15000, 20000, 25000 , 40000]\n",
    "lab = ['0-5000', '5000-10000', '10000-15000', '15000-20000', '20000-25000','25000+']\n",
    "loan_train['loan_amnt_range'] = pd.cut(loan_train['loan_amnt'], buck, labels=lab)"
   ]
  },
  {
   "cell_type": "code",
   "execution_count": 10,
   "metadata": {},
   "outputs": [],
   "source": [
    "loan_test['loan_amnt'].describe() #0-40k\n",
    "buck = [0, 5000, 10000, 15000, 20000, 25000 , 40000]\n",
    "lab = ['0-5000', '5000-10000', '10000-15000', '15000-20000', '20000-25000','25000+']\n",
    "loan_test['loan_amnt_range'] = pd.cut(loan_test['loan_amnt'], buck, labels=lab)"
   ]
  },
  {
   "cell_type": "code",
   "execution_count": 11,
   "metadata": {},
   "outputs": [],
   "source": [
    "loan_train['term'] = loan_train['term'].apply(lambda s: np.int8(s.split()[0]))"
   ]
  },
  {
   "cell_type": "code",
   "execution_count": 12,
   "metadata": {},
   "outputs": [],
   "source": [
    "loan_test['term'] = loan_test['term'].apply(lambda s: np.int8(s.split()[0]))"
   ]
  },
  {
   "cell_type": "code",
   "execution_count": 13,
   "metadata": {},
   "outputs": [],
   "source": [
    "from datetime import datetime\n",
    "loan_train['issue_year'] = pd.to_datetime(loan_train.issue_d).dt.year"
   ]
  },
  {
   "cell_type": "code",
   "execution_count": 14,
   "metadata": {},
   "outputs": [],
   "source": [
    "loan_test['issue_year'] = pd.to_datetime(loan_test.issue_d).dt.year"
   ]
  },
  {
   "cell_type": "code",
   "execution_count": 15,
   "metadata": {},
   "outputs": [],
   "source": [
    "loan_train.earliest_cr_line = pd.to_datetime(loan_train.earliest_cr_line)\n",
    "dttoday = pd.Timestamp(datetime.now().strftime('%Y-%m-%d'))\n",
    "loan_train['earliest_cr_line'].fillna(dttoday, inplace = True)"
   ]
  },
  {
   "cell_type": "code",
   "execution_count": 16,
   "metadata": {},
   "outputs": [],
   "source": [
    "loan_test.earliest_cr_line = pd.to_datetime(loan_test.earliest_cr_line)\n",
    "dttoday = pd.Timestamp(datetime.now().strftime('%Y-%m-%d'))\n",
    "loan_test['earliest_cr_line'].fillna(dttoday, inplace = True)"
   ]
  },
  {
   "cell_type": "code",
   "execution_count": 17,
   "metadata": {},
   "outputs": [],
   "source": [
    "loan_train['Age_Borrower'] = loan_train.earliest_cr_line.apply(lambda x: (0 if (x==dttoday) else (np.timedelta64((x - dttoday),'D')).astype(int))/-365)"
   ]
  },
  {
   "cell_type": "code",
   "execution_count": 18,
   "metadata": {},
   "outputs": [],
   "source": [
    "loan_test['Age_Borrower'] = loan_test.earliest_cr_line.apply(lambda x: (0 if (x==dttoday) else (np.timedelta64((x - dttoday),'D')).astype(int))/-365)"
   ]
  },
  {
   "cell_type": "code",
   "execution_count": 19,
   "metadata": {},
   "outputs": [],
   "source": [
    "loan_train.loc[(loan_train['purpose'] == 'debt_consolidation')|(loan_train['purpose'] ==\"credit_card\"), 'purpose_g'] = 'debt' \n",
    "loan_train.loc[(loan_train['purpose'] == 'home_improvement')|(loan_train['purpose'] ==\"major_purchase\")|\n",
    "                 (loan_train['purpose'] == 'car')|(loan_train['purpose'] ==\"house\")|\n",
    "                 (loan_train['purpose'] == 'vacation')|(loan_train['purpose'] ==\"renewable_energy\"),\n",
    "                 'purpose_g'] = 'major_purchase' \n",
    "loan_train.loc[(loan_train['purpose'] == 'small_business')|(loan_train['purpose'] ==\"medical\")|\n",
    "                 (loan_train['purpose'] == 'moving')|(loan_train['purpose'] ==\"wedding\")|\n",
    "                 (loan_train['purpose'] == 'educational'),\n",
    "                 'purpose_g'] = 'life_event'\n",
    "loan_train.loc[(loan_train['purpose'] == 'other'), 'purpose_g'] = 'other'"
   ]
  },
  {
   "cell_type": "code",
   "execution_count": 20,
   "metadata": {},
   "outputs": [],
   "source": [
    "loan_test.loc[(loan_test['purpose'] == 'debt_consolidation')|(loan_test['purpose'] ==\"credit_card\"), 'purpose_g'] = 'debt' \n",
    "loan_test.loc[(loan_test['purpose'] == 'home_improvement')|(loan_test['purpose'] ==\"major_purchase\")|\n",
    "                 (loan_test['purpose'] == 'car')|(loan_test['purpose'] ==\"house\")|\n",
    "                 (loan_test['purpose'] == 'vacation')|(loan_test['purpose'] ==\"renewable_energy\"),\n",
    "                 'purpose_g'] = 'major_purchase' \n",
    "loan_test.loc[(loan_test['purpose'] == 'small_business')|(loan_test['purpose'] ==\"medical\")|\n",
    "                 (loan_test['purpose'] == 'moving')|(loan_test['purpose'] ==\"wedding\")|\n",
    "                 (loan_test['purpose'] == 'educational'),\n",
    "                 'purpose_g'] = 'life_event'\n",
    "loan_test.loc[(loan_test['purpose'] == 'other'), 'purpose_g'] = 'other'"
   ]
  },
  {
   "cell_type": "code",
   "execution_count": 21,
   "metadata": {},
   "outputs": [],
   "source": [
    "loan_train['emp_length'].fillna(0, inplace=True)\n",
    "loan_train['emp_length'].replace('10+ years', '10 years', inplace=True)\n",
    "loan_train['emp_length'].replace('< 1 year', '0 years', inplace=True)\n",
    "loan_train.emp_length.map( lambda x: str(x).split()[0]).value_counts(dropna=True).sort_index()\n",
    "loan_train['emp_length'] = loan_train.emp_length.map( lambda x: float(str(x).split()[0]))"
   ]
  },
  {
   "cell_type": "code",
   "execution_count": 22,
   "metadata": {},
   "outputs": [],
   "source": [
    "loan_test['emp_length'].fillna(0, inplace=True)\n",
    "loan_test['emp_length'].replace('10+ years', '10 years', inplace=True)\n",
    "loan_test['emp_length'].replace('< 1 year', '0 years', inplace=True)\n",
    "loan_test.emp_length.map( lambda x: str(x).split()[0]).value_counts(dropna=True).sort_index()\n",
    "loan_test['emp_length'] = loan_test.emp_length.map( lambda x: float(str(x).split()[0]))"
   ]
  },
  {
   "cell_type": "code",
   "execution_count": 23,
   "metadata": {},
   "outputs": [],
   "source": [
    "loan_train['home_ownership'].replace(['NONE','ANY'],'OTHER', inplace=True)"
   ]
  },
  {
   "cell_type": "code",
   "execution_count": 24,
   "metadata": {},
   "outputs": [],
   "source": [
    "loan_test['home_ownership'].replace(['NONE','ANY'],'OTHER', inplace=True)"
   ]
  },
  {
   "cell_type": "code",
   "execution_count": 25,
   "metadata": {},
   "outputs": [],
   "source": [
    "loan_train['verification_status'].replace(['Source Verified','Verified'],'Verified', inplace=True)\n",
    "di = {\"Verified\":1, \"No Verified\":0}   #converting target variable to boolean\n",
    "loan_train = loan_train.replace({\"verification_status\": di})"
   ]
  },
  {
   "cell_type": "code",
   "execution_count": 26,
   "metadata": {},
   "outputs": [],
   "source": [
    "loan_test['verification_status'].replace(['Source Verified','Verified'],'Verified', inplace=True)\n",
    "di = {\"Verified\":1, \"No Verified\":0}   #converting target variable to boolean\n",
    "loan_test = loan_test.replace({\"verification_status\": di})"
   ]
  },
  {
   "cell_type": "code",
   "execution_count": 27,
   "metadata": {},
   "outputs": [],
   "source": [
    "# create region of residence based on state\n",
    "west = ['CA', 'OR', 'UT','WA', 'CO', 'NV', 'AK', 'MT', 'HI', 'WY', 'ID']\n",
    "south_west = ['AZ', 'TX', 'NM', 'OK']\n",
    "south_east = ['GA', 'NC', 'VA', 'FL', 'KY', 'SC', 'LA', 'AL', 'WV', 'DC', 'AR', 'DE', 'MS', 'TN' ]\n",
    "mid_west = ['IL', 'MO', 'MN', 'OH', 'WI', 'KS', 'MI', 'SD', 'IA', 'NE', 'IN', 'ND']\n",
    "north_east = ['CT', 'NY', 'PA', 'NJ', 'RI','MA', 'MD', 'VT', 'NH', 'ME']\n",
    "\n",
    "def finding_regions(state):\n",
    "    if state in west:\n",
    "        return 'West'\n",
    "    elif state in south_west:\n",
    "        return 'SouthWest'\n",
    "    elif state in south_east:\n",
    "        return 'SouthEast'\n",
    "    elif state in mid_west:\n",
    "        return 'MidWest'\n",
    "    elif state in north_east:\n",
    "        return 'NorthEast'\n",
    "\n",
    "loan_train['region'] = loan_train['addr_state'].apply(finding_regions)\n",
    "loan_test['region'] = loan_test['addr_state'].apply(finding_regions)"
   ]
  },
  {
   "cell_type": "code",
   "execution_count": 28,
   "metadata": {},
   "outputs": [],
   "source": [
    "grade_mapping={'A':7,'B':6,'C':5,'D':4,'E':3,'F':2,'G':1}\n",
    "loan_train[\"grade\"] = loan_train[\"grade\"].replace(grade_mapping)\n",
    "loan_test[\"grade\"] = loan_test[\"grade\"].replace(grade_mapping)"
   ]
  },
  {
   "cell_type": "code",
   "execution_count": 29,
   "metadata": {},
   "outputs": [],
   "source": [
    "loan_train[\"delinq_2yrs_cat\"] = 0\n",
    "loan_train.loc[loan_train[\"delinq_2yrs\"] > 0, \"delinq_2yrs_cat\"] = 1"
   ]
  },
  {
   "cell_type": "code",
   "execution_count": 30,
   "metadata": {},
   "outputs": [],
   "source": [
    "loan_test[\"delinq_2yrs_cat\"] = 0\n",
    "loan_test.loc[loan_test[\"delinq_2yrs\"] > 0, \"delinq_2yrs_cat\"] = 1"
   ]
  },
  {
   "cell_type": "code",
   "execution_count": 31,
   "metadata": {},
   "outputs": [],
   "source": [
    "loan_train[\"pub_rec_cat\"] = 0\n",
    "loan_train.loc[loan_train[\"pub_rec\"]>0,\"pub_rec_cat\"] = 1"
   ]
  },
  {
   "cell_type": "code",
   "execution_count": 32,
   "metadata": {},
   "outputs": [],
   "source": [
    "loan_test[\"pub_rec_cat\"] = 0\n",
    "loan_test.loc[loan_test[\"pub_rec\"]>0,\"pub_rec_cat\"] = 1"
   ]
  },
  {
   "cell_type": "code",
   "execution_count": 33,
   "metadata": {},
   "outputs": [],
   "source": [
    "loan_train['total_acc'].fillna(0, inplace = True) \n",
    "loan_train['open_acc'].fillna(0, inplace = True) \n",
    "loan_train['acc_ratio'] = loan_train.open_acc / loan_train.total_acc\n",
    "loan_train['acc_ratio'].fillna(0, inplace = True) "
   ]
  },
  {
   "cell_type": "code",
   "execution_count": 34,
   "metadata": {},
   "outputs": [],
   "source": [
    "loan_test['total_acc'].fillna(0, inplace = True) \n",
    "loan_test['open_acc'].fillna(0, inplace = True) \n",
    "loan_test['acc_ratio'] = loan_test.open_acc / loan_test.total_acc\n",
    "loan_test['acc_ratio'].fillna(0, inplace = True) "
   ]
  },
  {
   "cell_type": "code",
   "execution_count": 35,
   "metadata": {},
   "outputs": [],
   "source": [
    "loan_train[\"revol_bal_cat\"] = 0\n",
    "loan_train.loc[loan_train[\"revol_bal\"]>0,\"revol_bal_cat\"] = 1"
   ]
  },
  {
   "cell_type": "code",
   "execution_count": 36,
   "metadata": {},
   "outputs": [],
   "source": [
    "loan_test[\"revol_bal_cat\"] = 0\n",
    "loan_test.loc[loan_test[\"revol_bal\"]>0,\"revol_bal_cat\"] = 1"
   ]
  },
  {
   "cell_type": "code",
   "execution_count": 37,
   "metadata": {},
   "outputs": [],
   "source": [
    "loan_train[\"hardship_type\"].fillna(\"NO HARDSHIP PLAN\", inplace = True) "
   ]
  },
  {
   "cell_type": "code",
   "execution_count": 38,
   "metadata": {},
   "outputs": [],
   "source": [
    "loan_test[\"hardship_type\"].fillna(\"NO HARDSHIP PLAN\", inplace = True) "
   ]
  },
  {
   "cell_type": "code",
   "execution_count": 39,
   "metadata": {},
   "outputs": [],
   "source": [
    "cols_drop = ['id','url','member_id','application_type','loan_amnt','issue_d','earliest_cr_line','pymnt_plan','emp_title',\n",
    "             'desc','title','purpose','policy_code','addr_state','zip_code','sub_grade','num_actv_rev_tl',\n",
    "             'num_actv_bc_tl','num_bc_sats','num_bc_tl','num_op_rev_tl','num_rev_accts','num_rev_tl_bal_gt_0',\n",
    "             'delinq_2yrs','inq_last_6mths','pub_rec','num_il_tl','num_tl_120dpd_2m','num_tl_30dpd',\n",
    "             'num_tl_op_past_12m','pct_tl_nvr_dlq','pub_rec_bankruptcies','open_acc_6m','open_act_il',\n",
    "             'open_il_12m','open_il_24m','mths_since_rcnt_il','open_rv_12m','open_rv_24m','inq_fi',\n",
    "             'inq_last_12m','mo_sin_rcnt_rev_tl_op','revol_bal','total_rev_hi_lim','total_acc','total_bal_il',\n",
    "             'max_bal_bc','all_util', 'total_cu_tl','total_bal_ex_mort','tot_hi_cred_lim','total_bc_limit',\n",
    "             'out_prncp','out_prncp_inv','total_pymnt','total_pymnt_inv','total_rec_prncp','total_rec_int',\n",
    "             'total_rec_late_fee','recoveries','collection_recovery_fee','last_pymnt_d','last_pymnt_amnt',\n",
    "             'next_pymnt_d','last_credit_pull_d','mths_since_recent_bc','mths_since_recent_bc_dlq',\n",
    "             'mths_since_recent_inq','mths_since_recent_revol_delinq','hardship_flag','hardship_reason', \n",
    "             'hardship_status','deferral_term', 'hardship_amount', 'hardship_start_date','hardship_end_date',\n",
    "             'payment_plan_start_date', 'hardship_length','hardship_dpd', 'hardship_loan_status',\n",
    "             'hardship_last_payment_amount','orig_projected_additional_accrued_interest',\n",
    "             'hardship_payoff_balance_amount', 'debt_settlement_flag', 'debt_settlement_flag_date',\n",
    "             'settlement_status', 'settlement_date', 'settlement_amount','settlement_percentage', 'settlement_term',\n",
    "            'annual_inc_joint','dti_joint','verification_status_joint', 'revol_bal_joint','sec_app_earliest_cr_line',\n",
    "           'sec_app_inq_last_6mths','sec_app_mort_acc', 'sec_app_open_acc','sec_app_revol_util',\n",
    "           'sec_app_open_act_il','sec_app_num_rev_accts',\n",
    "           'sec_app_chargeoff_within_12_mths',\n",
    "           'sec_app_collections_12_mths_ex_med',\n",
    "           'sec_app_mths_since_last_major_derog']\n",
    "loan_train.drop(cols_drop, axis=1,inplace=True)\n",
    "loan_test.drop(cols_drop, axis=1,inplace=True)"
   ]
  },
  {
   "cell_type": "code",
   "execution_count": 40,
   "metadata": {},
   "outputs": [],
   "source": [
    "di = {np.NaN:0}  \n",
    "loan_train.replace({'tax_liens':di,'annual_inc':di,'delinq_2yrs':di,'pub_rec':di,\n",
    "                    'mths_since_last_delinq':di,'mths_since_last_record':di,\n",
    "                    'mths_since_last_major_derog':di,'collections_12_mths_ex_med':di,\n",
    "                    'tot_coll_amt':di,'acc_open_past_24mths':di,'chargeoff_within_12_mths':di,\n",
    "                    'mo_sin_old_il_acct':di,'mo_sin_old_rev_tl_op':di,'mo_sin_rcnt_tl':di,\n",
    "                    'num_accts_ever_120_pd':di,'num_tl_90g_dpd_24m':di,'percent_bc_gt_75':di,\n",
    "                    'revol_util':di,'total_acc':di,'num_sats':di,'acc_now_delinq':di,\n",
    "                    'tot_cur_bal':di,'total_bal_il':di,'il_util':di,'max_bal_bc':di,'all_util':di,\n",
    "                    'total_cu_tl':di,'avg_cur_bal':di,'bc_open_to_buy':di,'bc_util':di,\n",
    "                    'delinq_amnt':di,'mort_acc':di,'total_bc_limit':di,'total_il_high_credit_limit':di},inplace=True)"
   ]
  },
  {
   "cell_type": "code",
   "execution_count": 41,
   "metadata": {},
   "outputs": [],
   "source": [
    "loan_test.replace({'tax_liens':di,'annual_inc':di,'delinq_2yrs':di,'pub_rec':di,\n",
    "                    'mths_since_last_delinq':di,'mths_since_last_record':di,\n",
    "                    'mths_since_last_major_derog':di,'collections_12_mths_ex_med':di,\n",
    "                    'tot_coll_amt':di,'acc_open_past_24mths':di,'chargeoff_within_12_mths':di,\n",
    "                    'mo_sin_old_il_acct':di,'mo_sin_old_rev_tl_op':di,'mo_sin_rcnt_tl':di,\n",
    "                    'num_accts_ever_120_pd':di,'num_tl_90g_dpd_24m':di,'percent_bc_gt_75':di,\n",
    "                    'revol_util':di,'total_acc':di,'num_sats':di,'acc_now_delinq':di,\n",
    "                    'tot_cur_bal':di,'total_bal_il':di,'il_util':di,'max_bal_bc':di,'all_util':di,\n",
    "                    'total_cu_tl':di,'avg_cur_bal':di,'bc_open_to_buy':di,'bc_util':di,\n",
    "                    'delinq_amnt':di,'mort_acc':di,'total_bc_limit':di,'total_il_high_credit_limit':di},inplace=True)"
   ]
  },
  {
   "cell_type": "code",
   "execution_count": 42,
   "metadata": {
    "code_folding": [
     0
    ]
   },
   "outputs": [
    {
     "name": "stdout",
     "output_type": "stream",
     "text": [
      "Your selected dataframe has 50 columns.\n",
      "There are 0 columns that have missing values.\n"
     ]
    },
    {
     "data": {
      "text/html": [
       "<div>\n",
       "<style scoped>\n",
       "    .dataframe tbody tr th:only-of-type {\n",
       "        vertical-align: middle;\n",
       "    }\n",
       "\n",
       "    .dataframe tbody tr th {\n",
       "        vertical-align: top;\n",
       "    }\n",
       "\n",
       "    .dataframe thead th {\n",
       "        text-align: right;\n",
       "    }\n",
       "</style>\n",
       "<table border=\"1\" class=\"dataframe\">\n",
       "  <thead>\n",
       "    <tr style=\"text-align: right;\">\n",
       "      <th></th>\n",
       "      <th>Missing Values</th>\n",
       "      <th>% of Total Values</th>\n",
       "      <th>type</th>\n",
       "    </tr>\n",
       "  </thead>\n",
       "  <tbody>\n",
       "  </tbody>\n",
       "</table>\n",
       "</div>"
      ],
      "text/plain": [
       "Empty DataFrame\n",
       "Columns: [Missing Values, % of Total Values, type]\n",
       "Index: []"
      ]
     },
     "execution_count": 42,
     "metadata": {},
     "output_type": "execute_result"
    }
   ],
   "source": [
    "missing_values_table(loan_train)"
   ]
  },
  {
   "cell_type": "code",
   "execution_count": 43,
   "metadata": {
    "code_folding": [
     0
    ]
   },
   "outputs": [
    {
     "name": "stdout",
     "output_type": "stream",
     "text": [
      "Your selected dataframe has 50 columns.\n",
      "There are 0 columns that have missing values.\n"
     ]
    },
    {
     "data": {
      "text/html": [
       "<div>\n",
       "<style scoped>\n",
       "    .dataframe tbody tr th:only-of-type {\n",
       "        vertical-align: middle;\n",
       "    }\n",
       "\n",
       "    .dataframe tbody tr th {\n",
       "        vertical-align: top;\n",
       "    }\n",
       "\n",
       "    .dataframe thead th {\n",
       "        text-align: right;\n",
       "    }\n",
       "</style>\n",
       "<table border=\"1\" class=\"dataframe\">\n",
       "  <thead>\n",
       "    <tr style=\"text-align: right;\">\n",
       "      <th></th>\n",
       "      <th>Missing Values</th>\n",
       "      <th>% of Total Values</th>\n",
       "      <th>type</th>\n",
       "    </tr>\n",
       "  </thead>\n",
       "  <tbody>\n",
       "  </tbody>\n",
       "</table>\n",
       "</div>"
      ],
      "text/plain": [
       "Empty DataFrame\n",
       "Columns: [Missing Values, % of Total Values, type]\n",
       "Index: []"
      ]
     },
     "execution_count": 43,
     "metadata": {},
     "output_type": "execute_result"
    }
   ],
   "source": [
    "missing_values_table(loan_test)"
   ]
  },
  {
   "cell_type": "code",
   "execution_count": 44,
   "metadata": {
    "code_folding": []
   },
   "outputs": [],
   "source": [
    "for col in loan_train.select_dtypes(include=['object']).columns:\n",
    "    loan_train[col] = loan_train[col].astype('category')"
   ]
  },
  {
   "cell_type": "code",
   "execution_count": 45,
   "metadata": {
    "code_folding": []
   },
   "outputs": [],
   "source": [
    "for col in loan_test.select_dtypes(include=['object']).columns:\n",
    "    loan_test[col] = loan_test[col].astype('category')"
   ]
  },
  {
   "cell_type": "code",
   "execution_count": 46,
   "metadata": {},
   "outputs": [],
   "source": [
    "loan_train = pd.get_dummies(loan_train, columns=loan_train.select_dtypes(include=['category']).columns)"
   ]
  },
  {
   "cell_type": "code",
   "execution_count": 47,
   "metadata": {},
   "outputs": [],
   "source": [
    "loan_test = pd.get_dummies(loan_test, columns=loan_test.select_dtypes(include=['category']).columns)"
   ]
  },
  {
   "cell_type": "markdown",
   "metadata": {},
   "source": [
    "## Selección de Variables"
   ]
  },
  {
   "cell_type": "code",
   "execution_count": 48,
   "metadata": {},
   "outputs": [
    {
     "data": {
      "text/html": [
       "<div>\n",
       "<style scoped>\n",
       "    .dataframe tbody tr th:only-of-type {\n",
       "        vertical-align: middle;\n",
       "    }\n",
       "\n",
       "    .dataframe tbody tr th {\n",
       "        vertical-align: top;\n",
       "    }\n",
       "\n",
       "    .dataframe thead th {\n",
       "        text-align: right;\n",
       "    }\n",
       "</style>\n",
       "<table border=\"1\" class=\"dataframe\">\n",
       "  <thead>\n",
       "    <tr style=\"text-align: right;\">\n",
       "      <th></th>\n",
       "      <th>index</th>\n",
       "      <th>type</th>\n",
       "    </tr>\n",
       "  </thead>\n",
       "  <tbody>\n",
       "    <tr>\n",
       "      <th>0</th>\n",
       "      <td>funded_amnt</td>\n",
       "      <td>int64</td>\n",
       "    </tr>\n",
       "    <tr>\n",
       "      <th>1</th>\n",
       "      <td>funded_amnt_inv</td>\n",
       "      <td>float64</td>\n",
       "    </tr>\n",
       "    <tr>\n",
       "      <th>2</th>\n",
       "      <td>term</td>\n",
       "      <td>int64</td>\n",
       "    </tr>\n",
       "    <tr>\n",
       "      <th>3</th>\n",
       "      <td>int_rate</td>\n",
       "      <td>float64</td>\n",
       "    </tr>\n",
       "    <tr>\n",
       "      <th>4</th>\n",
       "      <td>installment</td>\n",
       "      <td>float64</td>\n",
       "    </tr>\n",
       "    <tr>\n",
       "      <th>5</th>\n",
       "      <td>grade</td>\n",
       "      <td>int64</td>\n",
       "    </tr>\n",
       "    <tr>\n",
       "      <th>6</th>\n",
       "      <td>emp_length</td>\n",
       "      <td>float64</td>\n",
       "    </tr>\n",
       "    <tr>\n",
       "      <th>7</th>\n",
       "      <td>annual_inc</td>\n",
       "      <td>float64</td>\n",
       "    </tr>\n",
       "    <tr>\n",
       "      <th>8</th>\n",
       "      <td>dti</td>\n",
       "      <td>float64</td>\n",
       "    </tr>\n",
       "    <tr>\n",
       "      <th>9</th>\n",
       "      <td>mths_since_last_delinq</td>\n",
       "      <td>float64</td>\n",
       "    </tr>\n",
       "    <tr>\n",
       "      <th>10</th>\n",
       "      <td>mths_since_last_record</td>\n",
       "      <td>float64</td>\n",
       "    </tr>\n",
       "    <tr>\n",
       "      <th>11</th>\n",
       "      <td>open_acc</td>\n",
       "      <td>float64</td>\n",
       "    </tr>\n",
       "    <tr>\n",
       "      <th>12</th>\n",
       "      <td>revol_util</td>\n",
       "      <td>float64</td>\n",
       "    </tr>\n",
       "    <tr>\n",
       "      <th>13</th>\n",
       "      <td>collections_12_mths_ex_med</td>\n",
       "      <td>float64</td>\n",
       "    </tr>\n",
       "    <tr>\n",
       "      <th>14</th>\n",
       "      <td>mths_since_last_major_derog</td>\n",
       "      <td>float64</td>\n",
       "    </tr>\n",
       "    <tr>\n",
       "      <th>15</th>\n",
       "      <td>acc_now_delinq</td>\n",
       "      <td>float64</td>\n",
       "    </tr>\n",
       "    <tr>\n",
       "      <th>16</th>\n",
       "      <td>tot_coll_amt</td>\n",
       "      <td>float64</td>\n",
       "    </tr>\n",
       "    <tr>\n",
       "      <th>17</th>\n",
       "      <td>tot_cur_bal</td>\n",
       "      <td>float64</td>\n",
       "    </tr>\n",
       "    <tr>\n",
       "      <th>18</th>\n",
       "      <td>il_util</td>\n",
       "      <td>float64</td>\n",
       "    </tr>\n",
       "    <tr>\n",
       "      <th>19</th>\n",
       "      <td>acc_open_past_24mths</td>\n",
       "      <td>float64</td>\n",
       "    </tr>\n",
       "    <tr>\n",
       "      <th>20</th>\n",
       "      <td>avg_cur_bal</td>\n",
       "      <td>float64</td>\n",
       "    </tr>\n",
       "    <tr>\n",
       "      <th>21</th>\n",
       "      <td>bc_open_to_buy</td>\n",
       "      <td>float64</td>\n",
       "    </tr>\n",
       "    <tr>\n",
       "      <th>22</th>\n",
       "      <td>bc_util</td>\n",
       "      <td>float64</td>\n",
       "    </tr>\n",
       "    <tr>\n",
       "      <th>23</th>\n",
       "      <td>chargeoff_within_12_mths</td>\n",
       "      <td>float64</td>\n",
       "    </tr>\n",
       "    <tr>\n",
       "      <th>24</th>\n",
       "      <td>delinq_amnt</td>\n",
       "      <td>float64</td>\n",
       "    </tr>\n",
       "    <tr>\n",
       "      <th>25</th>\n",
       "      <td>mo_sin_old_il_acct</td>\n",
       "      <td>float64</td>\n",
       "    </tr>\n",
       "    <tr>\n",
       "      <th>26</th>\n",
       "      <td>mo_sin_old_rev_tl_op</td>\n",
       "      <td>float64</td>\n",
       "    </tr>\n",
       "    <tr>\n",
       "      <th>27</th>\n",
       "      <td>mo_sin_rcnt_tl</td>\n",
       "      <td>float64</td>\n",
       "    </tr>\n",
       "    <tr>\n",
       "      <th>28</th>\n",
       "      <td>mort_acc</td>\n",
       "      <td>float64</td>\n",
       "    </tr>\n",
       "    <tr>\n",
       "      <th>29</th>\n",
       "      <td>num_accts_ever_120_pd</td>\n",
       "      <td>float64</td>\n",
       "    </tr>\n",
       "    <tr>\n",
       "      <th>...</th>\n",
       "      <td>...</td>\n",
       "      <td>...</td>\n",
       "    </tr>\n",
       "    <tr>\n",
       "      <th>39</th>\n",
       "      <td>pub_rec_cat</td>\n",
       "      <td>int64</td>\n",
       "    </tr>\n",
       "    <tr>\n",
       "      <th>40</th>\n",
       "      <td>acc_ratio</td>\n",
       "      <td>float64</td>\n",
       "    </tr>\n",
       "    <tr>\n",
       "      <th>41</th>\n",
       "      <td>revol_bal_cat</td>\n",
       "      <td>int64</td>\n",
       "    </tr>\n",
       "    <tr>\n",
       "      <th>42</th>\n",
       "      <td>home_ownership_MORTGAGE</td>\n",
       "      <td>uint8</td>\n",
       "    </tr>\n",
       "    <tr>\n",
       "      <th>43</th>\n",
       "      <td>home_ownership_OTHER</td>\n",
       "      <td>uint8</td>\n",
       "    </tr>\n",
       "    <tr>\n",
       "      <th>44</th>\n",
       "      <td>home_ownership_OWN</td>\n",
       "      <td>uint8</td>\n",
       "    </tr>\n",
       "    <tr>\n",
       "      <th>45</th>\n",
       "      <td>home_ownership_RENT</td>\n",
       "      <td>uint8</td>\n",
       "    </tr>\n",
       "    <tr>\n",
       "      <th>46</th>\n",
       "      <td>verification_status_1</td>\n",
       "      <td>uint8</td>\n",
       "    </tr>\n",
       "    <tr>\n",
       "      <th>47</th>\n",
       "      <td>verification_status_Not Verified</td>\n",
       "      <td>uint8</td>\n",
       "    </tr>\n",
       "    <tr>\n",
       "      <th>48</th>\n",
       "      <td>initial_list_status_f</td>\n",
       "      <td>uint8</td>\n",
       "    </tr>\n",
       "    <tr>\n",
       "      <th>49</th>\n",
       "      <td>initial_list_status_w</td>\n",
       "      <td>uint8</td>\n",
       "    </tr>\n",
       "    <tr>\n",
       "      <th>50</th>\n",
       "      <td>hardship_type_INTEREST ONLY-3 MONTHS DEFERRAL</td>\n",
       "      <td>uint8</td>\n",
       "    </tr>\n",
       "    <tr>\n",
       "      <th>51</th>\n",
       "      <td>hardship_type_NO HARDSHIP PLAN</td>\n",
       "      <td>uint8</td>\n",
       "    </tr>\n",
       "    <tr>\n",
       "      <th>52</th>\n",
       "      <td>disbursement_method_Cash</td>\n",
       "      <td>uint8</td>\n",
       "    </tr>\n",
       "    <tr>\n",
       "      <th>53</th>\n",
       "      <td>disbursement_method_DirectPay</td>\n",
       "      <td>uint8</td>\n",
       "    </tr>\n",
       "    <tr>\n",
       "      <th>54</th>\n",
       "      <td>loan_amnt_range_0-5000</td>\n",
       "      <td>uint8</td>\n",
       "    </tr>\n",
       "    <tr>\n",
       "      <th>55</th>\n",
       "      <td>loan_amnt_range_5000-10000</td>\n",
       "      <td>uint8</td>\n",
       "    </tr>\n",
       "    <tr>\n",
       "      <th>56</th>\n",
       "      <td>loan_amnt_range_10000-15000</td>\n",
       "      <td>uint8</td>\n",
       "    </tr>\n",
       "    <tr>\n",
       "      <th>57</th>\n",
       "      <td>loan_amnt_range_15000-20000</td>\n",
       "      <td>uint8</td>\n",
       "    </tr>\n",
       "    <tr>\n",
       "      <th>58</th>\n",
       "      <td>loan_amnt_range_20000-25000</td>\n",
       "      <td>uint8</td>\n",
       "    </tr>\n",
       "    <tr>\n",
       "      <th>59</th>\n",
       "      <td>loan_amnt_range_25000+</td>\n",
       "      <td>uint8</td>\n",
       "    </tr>\n",
       "    <tr>\n",
       "      <th>60</th>\n",
       "      <td>purpose_g_debt</td>\n",
       "      <td>uint8</td>\n",
       "    </tr>\n",
       "    <tr>\n",
       "      <th>61</th>\n",
       "      <td>purpose_g_life_event</td>\n",
       "      <td>uint8</td>\n",
       "    </tr>\n",
       "    <tr>\n",
       "      <th>62</th>\n",
       "      <td>purpose_g_major_purchase</td>\n",
       "      <td>uint8</td>\n",
       "    </tr>\n",
       "    <tr>\n",
       "      <th>63</th>\n",
       "      <td>purpose_g_other</td>\n",
       "      <td>uint8</td>\n",
       "    </tr>\n",
       "    <tr>\n",
       "      <th>64</th>\n",
       "      <td>region_MidWest</td>\n",
       "      <td>uint8</td>\n",
       "    </tr>\n",
       "    <tr>\n",
       "      <th>65</th>\n",
       "      <td>region_NorthEast</td>\n",
       "      <td>uint8</td>\n",
       "    </tr>\n",
       "    <tr>\n",
       "      <th>66</th>\n",
       "      <td>region_SouthEast</td>\n",
       "      <td>uint8</td>\n",
       "    </tr>\n",
       "    <tr>\n",
       "      <th>67</th>\n",
       "      <td>region_SouthWest</td>\n",
       "      <td>uint8</td>\n",
       "    </tr>\n",
       "    <tr>\n",
       "      <th>68</th>\n",
       "      <td>region_West</td>\n",
       "      <td>uint8</td>\n",
       "    </tr>\n",
       "  </tbody>\n",
       "</table>\n",
       "<p>69 rows × 2 columns</p>\n",
       "</div>"
      ],
      "text/plain": [
       "                                            index     type\n",
       "0                                     funded_amnt    int64\n",
       "1                                 funded_amnt_inv  float64\n",
       "2                                            term    int64\n",
       "3                                        int_rate  float64\n",
       "4                                     installment  float64\n",
       "5                                           grade    int64\n",
       "6                                      emp_length  float64\n",
       "7                                      annual_inc  float64\n",
       "8                                             dti  float64\n",
       "9                          mths_since_last_delinq  float64\n",
       "10                         mths_since_last_record  float64\n",
       "11                                       open_acc  float64\n",
       "12                                     revol_util  float64\n",
       "13                     collections_12_mths_ex_med  float64\n",
       "14                    mths_since_last_major_derog  float64\n",
       "15                                 acc_now_delinq  float64\n",
       "16                                   tot_coll_amt  float64\n",
       "17                                    tot_cur_bal  float64\n",
       "18                                        il_util  float64\n",
       "19                           acc_open_past_24mths  float64\n",
       "20                                    avg_cur_bal  float64\n",
       "21                                 bc_open_to_buy  float64\n",
       "22                                        bc_util  float64\n",
       "23                       chargeoff_within_12_mths  float64\n",
       "24                                    delinq_amnt  float64\n",
       "25                             mo_sin_old_il_acct  float64\n",
       "26                           mo_sin_old_rev_tl_op  float64\n",
       "27                                 mo_sin_rcnt_tl  float64\n",
       "28                                       mort_acc  float64\n",
       "29                          num_accts_ever_120_pd  float64\n",
       "..                                            ...      ...\n",
       "39                                    pub_rec_cat    int64\n",
       "40                                      acc_ratio  float64\n",
       "41                                  revol_bal_cat    int64\n",
       "42                        home_ownership_MORTGAGE    uint8\n",
       "43                           home_ownership_OTHER    uint8\n",
       "44                             home_ownership_OWN    uint8\n",
       "45                            home_ownership_RENT    uint8\n",
       "46                          verification_status_1    uint8\n",
       "47               verification_status_Not Verified    uint8\n",
       "48                          initial_list_status_f    uint8\n",
       "49                          initial_list_status_w    uint8\n",
       "50  hardship_type_INTEREST ONLY-3 MONTHS DEFERRAL    uint8\n",
       "51                 hardship_type_NO HARDSHIP PLAN    uint8\n",
       "52                       disbursement_method_Cash    uint8\n",
       "53                  disbursement_method_DirectPay    uint8\n",
       "54                         loan_amnt_range_0-5000    uint8\n",
       "55                     loan_amnt_range_5000-10000    uint8\n",
       "56                    loan_amnt_range_10000-15000    uint8\n",
       "57                    loan_amnt_range_15000-20000    uint8\n",
       "58                    loan_amnt_range_20000-25000    uint8\n",
       "59                         loan_amnt_range_25000+    uint8\n",
       "60                                 purpose_g_debt    uint8\n",
       "61                           purpose_g_life_event    uint8\n",
       "62                       purpose_g_major_purchase    uint8\n",
       "63                                purpose_g_other    uint8\n",
       "64                                 region_MidWest    uint8\n",
       "65                               region_NorthEast    uint8\n",
       "66                               region_SouthEast    uint8\n",
       "67                               region_SouthWest    uint8\n",
       "68                                    region_West    uint8\n",
       "\n",
       "[69 rows x 2 columns]"
      ]
     },
     "execution_count": 48,
     "metadata": {},
     "output_type": "execute_result"
    }
   ],
   "source": [
    "# para obtener los valores de cada columna.\n",
    "var_n = pd.DataFrame(loan_train.count()).reset_index()\n",
    "var_n.columns=['index', 'n']\n",
    "\n",
    "# correlación de cada variable con respecto a la variable objetivo (credit risk)\n",
    "var_cor = pd.DataFrame((loan_train.corr()['credit_risk'])).reset_index()\n",
    "var_cor.columns=['index', 'correlation']\n",
    "\n",
    "# Se obtiene el tipo de dato de cada variable\n",
    "var_type = pd.DataFrame(loan_train.dtypes).reset_index()\n",
    "var_type.columns=['index', 'type']\n",
    "var_type"
   ]
  },
  {
   "cell_type": "code",
   "execution_count": 54,
   "metadata": {},
   "outputs": [],
   "source": [
    "from scipy import stats, optimize, interpolate\n",
    "import scipy\n",
    "import scipy.integrate as integrate"
   ]
  },
  {
   "cell_type": "code",
   "execution_count": 50,
   "metadata": {},
   "outputs": [],
   "source": [
    "def do_test(x):\n",
    "    # Se ejecuta la prueba t student en con cada variable numérica.\n",
    "    if (x.dtypes == 'float64') | (x.dtypes == 'int64'):\n",
    "        group1, group2 = [g[1] for g in x.groupby(loan_train['credit_risk'])]\n",
    "        t, p = scipy.stats.ttest_ind(group1, group2,nan_policy='omit')\n",
    "        if np.isnan(np.ma.getdata(t)):\n",
    "            p=1\n",
    "        return p\n",
    "    \n",
    "    # Se realiza la prueba Chi cuadrado con cada variable categorica.\n",
    "    if x.dtypes == 'object':\n",
    "        observed = pd.crosstab(x, loan_train['credit_risk'])\n",
    "        chi, p = scipy.stats.chi2_contingency(observed, correction=False)[0:2]\n",
    "        return p"
   ]
  },
  {
   "cell_type": "code",
   "execution_count": 55,
   "metadata": {},
   "outputs": [],
   "source": [
    "# se calcula los p-valor de cada variable.\n",
    "pval = pd.DataFrame(loan_train.apply(do_test)).reset_index()\n",
    "pval.columns=['index', 'p']"
   ]
  },
  {
   "cell_type": "code",
   "execution_count": 56,
   "metadata": {},
   "outputs": [],
   "source": [
    "var_n = pd.DataFrame(loan_train.count()).reset_index()\n",
    "var_n.columns=['index', 'n']\n",
    "\n",
    "# correlación de cada variable con respecto a la variable objetivo (credit risk)\n",
    "var_cor = pd.DataFrame((loan_train.corr()['credit_risk'])).reset_index()\n",
    "var_cor.columns=['index', 'correlation']\n",
    "\n",
    "# Se obtiene el tipo de dato de cada variable\n",
    "var_type = pd.DataFrame(loan_train.dtypes).reset_index()\n",
    "var_type.columns=['index', 'type']"
   ]
  },
  {
   "cell_type": "code",
   "execution_count": 57,
   "metadata": {},
   "outputs": [
    {
     "data": {
      "text/plain": [
       "(69, 2)"
      ]
     },
     "execution_count": 57,
     "metadata": {},
     "output_type": "execute_result"
    }
   ],
   "source": [
    "var_n.shape"
   ]
  },
  {
   "cell_type": "code",
   "execution_count": 58,
   "metadata": {},
   "outputs": [
    {
     "name": "stdout",
     "output_type": "stream",
     "text": [
      "Total number of variables selected = 62\n",
      "Type of variables:\n",
      "float64    31\n",
      "uint8      24\n",
      "int64       7\n",
      "Name: type, dtype: int64\n"
     ]
    },
    {
     "data": {
      "text/html": [
       "<div>\n",
       "<style scoped>\n",
       "    .dataframe tbody tr th:only-of-type {\n",
       "        vertical-align: middle;\n",
       "    }\n",
       "\n",
       "    .dataframe tbody tr th {\n",
       "        vertical-align: top;\n",
       "    }\n",
       "\n",
       "    .dataframe thead th {\n",
       "        text-align: right;\n",
       "    }\n",
       "</style>\n",
       "<table border=\"1\" class=\"dataframe\">\n",
       "  <thead>\n",
       "    <tr style=\"text-align: right;\">\n",
       "      <th></th>\n",
       "      <th>index</th>\n",
       "      <th>n</th>\n",
       "      <th>p</th>\n",
       "      <th>type</th>\n",
       "    </tr>\n",
       "  </thead>\n",
       "  <tbody>\n",
       "    <tr>\n",
       "      <th>37</th>\n",
       "      <td>Age_Borrower</td>\n",
       "      <td>980547</td>\n",
       "      <td>0.000000e+00</td>\n",
       "      <td>float64</td>\n",
       "    </tr>\n",
       "    <tr>\n",
       "      <th>15</th>\n",
       "      <td>acc_now_delinq</td>\n",
       "      <td>980547</td>\n",
       "      <td>7.594770e-05</td>\n",
       "      <td>float64</td>\n",
       "    </tr>\n",
       "    <tr>\n",
       "      <th>19</th>\n",
       "      <td>acc_open_past_24mths</td>\n",
       "      <td>980547</td>\n",
       "      <td>0.000000e+00</td>\n",
       "      <td>float64</td>\n",
       "    </tr>\n",
       "    <tr>\n",
       "      <th>40</th>\n",
       "      <td>acc_ratio</td>\n",
       "      <td>980547</td>\n",
       "      <td>0.000000e+00</td>\n",
       "      <td>float64</td>\n",
       "    </tr>\n",
       "    <tr>\n",
       "      <th>7</th>\n",
       "      <td>annual_inc</td>\n",
       "      <td>980547</td>\n",
       "      <td>3.039275e-277</td>\n",
       "      <td>float64</td>\n",
       "    </tr>\n",
       "    <tr>\n",
       "      <th>20</th>\n",
       "      <td>avg_cur_bal</td>\n",
       "      <td>980547</td>\n",
       "      <td>0.000000e+00</td>\n",
       "      <td>float64</td>\n",
       "    </tr>\n",
       "    <tr>\n",
       "      <th>21</th>\n",
       "      <td>bc_open_to_buy</td>\n",
       "      <td>980547</td>\n",
       "      <td>0.000000e+00</td>\n",
       "      <td>float64</td>\n",
       "    </tr>\n",
       "    <tr>\n",
       "      <th>22</th>\n",
       "      <td>bc_util</td>\n",
       "      <td>980547</td>\n",
       "      <td>0.000000e+00</td>\n",
       "      <td>float64</td>\n",
       "    </tr>\n",
       "    <tr>\n",
       "      <th>13</th>\n",
       "      <td>collections_12_mths_ex_med</td>\n",
       "      <td>980547</td>\n",
       "      <td>3.472952e-70</td>\n",
       "      <td>float64</td>\n",
       "    </tr>\n",
       "    <tr>\n",
       "      <th>35</th>\n",
       "      <td>credit_risk</td>\n",
       "      <td>980547</td>\n",
       "      <td>0.000000e+00</td>\n",
       "      <td>int64</td>\n",
       "    </tr>\n",
       "    <tr>\n",
       "      <th>38</th>\n",
       "      <td>delinq_2yrs_cat</td>\n",
       "      <td>980547</td>\n",
       "      <td>6.979154e-93</td>\n",
       "      <td>int64</td>\n",
       "    </tr>\n",
       "    <tr>\n",
       "      <th>52</th>\n",
       "      <td>disbursement_method_Cash</td>\n",
       "      <td>980547</td>\n",
       "      <td>8.098956e-31</td>\n",
       "      <td>uint8</td>\n",
       "    </tr>\n",
       "    <tr>\n",
       "      <th>53</th>\n",
       "      <td>disbursement_method_DirectPay</td>\n",
       "      <td>980547</td>\n",
       "      <td>8.098956e-31</td>\n",
       "      <td>uint8</td>\n",
       "    </tr>\n",
       "    <tr>\n",
       "      <th>8</th>\n",
       "      <td>dti</td>\n",
       "      <td>980547</td>\n",
       "      <td>0.000000e+00</td>\n",
       "      <td>float64</td>\n",
       "    </tr>\n",
       "    <tr>\n",
       "      <th>6</th>\n",
       "      <td>emp_length</td>\n",
       "      <td>980547</td>\n",
       "      <td>3.154923e-187</td>\n",
       "      <td>float64</td>\n",
       "    </tr>\n",
       "    <tr>\n",
       "      <th>0</th>\n",
       "      <td>funded_amnt</td>\n",
       "      <td>980547</td>\n",
       "      <td>0.000000e+00</td>\n",
       "      <td>int64</td>\n",
       "    </tr>\n",
       "    <tr>\n",
       "      <th>1</th>\n",
       "      <td>funded_amnt_inv</td>\n",
       "      <td>980547</td>\n",
       "      <td>0.000000e+00</td>\n",
       "      <td>float64</td>\n",
       "    </tr>\n",
       "    <tr>\n",
       "      <th>5</th>\n",
       "      <td>grade</td>\n",
       "      <td>980547</td>\n",
       "      <td>0.000000e+00</td>\n",
       "      <td>int64</td>\n",
       "    </tr>\n",
       "    <tr>\n",
       "      <th>50</th>\n",
       "      <td>hardship_type_INTEREST ONLY-3 MONTHS DEFERRAL</td>\n",
       "      <td>980547</td>\n",
       "      <td>0.000000e+00</td>\n",
       "      <td>uint8</td>\n",
       "    </tr>\n",
       "    <tr>\n",
       "      <th>51</th>\n",
       "      <td>hardship_type_NO HARDSHIP PLAN</td>\n",
       "      <td>980547</td>\n",
       "      <td>0.000000e+00</td>\n",
       "      <td>uint8</td>\n",
       "    </tr>\n",
       "    <tr>\n",
       "      <th>42</th>\n",
       "      <td>home_ownership_MORTGAGE</td>\n",
       "      <td>980547</td>\n",
       "      <td>0.000000e+00</td>\n",
       "      <td>uint8</td>\n",
       "    </tr>\n",
       "    <tr>\n",
       "      <th>44</th>\n",
       "      <td>home_ownership_OWN</td>\n",
       "      <td>980547</td>\n",
       "      <td>2.324314e-10</td>\n",
       "      <td>uint8</td>\n",
       "    </tr>\n",
       "    <tr>\n",
       "      <th>45</th>\n",
       "      <td>home_ownership_RENT</td>\n",
       "      <td>980547</td>\n",
       "      <td>0.000000e+00</td>\n",
       "      <td>uint8</td>\n",
       "    </tr>\n",
       "    <tr>\n",
       "      <th>18</th>\n",
       "      <td>il_util</td>\n",
       "      <td>980547</td>\n",
       "      <td>0.000000e+00</td>\n",
       "      <td>float64</td>\n",
       "    </tr>\n",
       "    <tr>\n",
       "      <th>48</th>\n",
       "      <td>initial_list_status_f</td>\n",
       "      <td>980547</td>\n",
       "      <td>1.416212e-95</td>\n",
       "      <td>uint8</td>\n",
       "    </tr>\n",
       "    <tr>\n",
       "      <th>49</th>\n",
       "      <td>initial_list_status_w</td>\n",
       "      <td>980547</td>\n",
       "      <td>1.416212e-95</td>\n",
       "      <td>uint8</td>\n",
       "    </tr>\n",
       "    <tr>\n",
       "      <th>4</th>\n",
       "      <td>installment</td>\n",
       "      <td>980547</td>\n",
       "      <td>0.000000e+00</td>\n",
       "      <td>float64</td>\n",
       "    </tr>\n",
       "    <tr>\n",
       "      <th>3</th>\n",
       "      <td>int_rate</td>\n",
       "      <td>980547</td>\n",
       "      <td>0.000000e+00</td>\n",
       "      <td>float64</td>\n",
       "    </tr>\n",
       "    <tr>\n",
       "      <th>36</th>\n",
       "      <td>issue_year</td>\n",
       "      <td>980547</td>\n",
       "      <td>0.000000e+00</td>\n",
       "      <td>int64</td>\n",
       "    </tr>\n",
       "    <tr>\n",
       "      <th>54</th>\n",
       "      <td>loan_amnt_range_0-5000</td>\n",
       "      <td>980547</td>\n",
       "      <td>0.000000e+00</td>\n",
       "      <td>uint8</td>\n",
       "    </tr>\n",
       "    <tr>\n",
       "      <th>...</th>\n",
       "      <td>...</td>\n",
       "      <td>...</td>\n",
       "      <td>...</td>\n",
       "      <td>...</td>\n",
       "    </tr>\n",
       "    <tr>\n",
       "      <th>58</th>\n",
       "      <td>loan_amnt_range_20000-25000</td>\n",
       "      <td>980547</td>\n",
       "      <td>4.334909e-123</td>\n",
       "      <td>uint8</td>\n",
       "    </tr>\n",
       "    <tr>\n",
       "      <th>59</th>\n",
       "      <td>loan_amnt_range_25000+</td>\n",
       "      <td>980547</td>\n",
       "      <td>0.000000e+00</td>\n",
       "      <td>uint8</td>\n",
       "    </tr>\n",
       "    <tr>\n",
       "      <th>55</th>\n",
       "      <td>loan_amnt_range_5000-10000</td>\n",
       "      <td>980547</td>\n",
       "      <td>0.000000e+00</td>\n",
       "      <td>uint8</td>\n",
       "    </tr>\n",
       "    <tr>\n",
       "      <th>25</th>\n",
       "      <td>mo_sin_old_il_acct</td>\n",
       "      <td>980547</td>\n",
       "      <td>5.737244e-23</td>\n",
       "      <td>float64</td>\n",
       "    </tr>\n",
       "    <tr>\n",
       "      <th>26</th>\n",
       "      <td>mo_sin_old_rev_tl_op</td>\n",
       "      <td>980547</td>\n",
       "      <td>2.670411e-266</td>\n",
       "      <td>float64</td>\n",
       "    </tr>\n",
       "    <tr>\n",
       "      <th>27</th>\n",
       "      <td>mo_sin_rcnt_tl</td>\n",
       "      <td>980547</td>\n",
       "      <td>0.000000e+00</td>\n",
       "      <td>float64</td>\n",
       "    </tr>\n",
       "    <tr>\n",
       "      <th>28</th>\n",
       "      <td>mort_acc</td>\n",
       "      <td>980547</td>\n",
       "      <td>0.000000e+00</td>\n",
       "      <td>float64</td>\n",
       "    </tr>\n",
       "    <tr>\n",
       "      <th>9</th>\n",
       "      <td>mths_since_last_delinq</td>\n",
       "      <td>980547</td>\n",
       "      <td>9.171915e-15</td>\n",
       "      <td>float64</td>\n",
       "    </tr>\n",
       "    <tr>\n",
       "      <th>14</th>\n",
       "      <td>mths_since_last_major_derog</td>\n",
       "      <td>980547</td>\n",
       "      <td>1.840344e-154</td>\n",
       "      <td>float64</td>\n",
       "    </tr>\n",
       "    <tr>\n",
       "      <th>10</th>\n",
       "      <td>mths_since_last_record</td>\n",
       "      <td>980547</td>\n",
       "      <td>4.951289e-203</td>\n",
       "      <td>float64</td>\n",
       "    </tr>\n",
       "    <tr>\n",
       "      <th>29</th>\n",
       "      <td>num_accts_ever_120_pd</td>\n",
       "      <td>980547</td>\n",
       "      <td>2.339713e-50</td>\n",
       "      <td>float64</td>\n",
       "    </tr>\n",
       "    <tr>\n",
       "      <th>30</th>\n",
       "      <td>num_sats</td>\n",
       "      <td>980547</td>\n",
       "      <td>1.979664e-296</td>\n",
       "      <td>float64</td>\n",
       "    </tr>\n",
       "    <tr>\n",
       "      <th>31</th>\n",
       "      <td>num_tl_90g_dpd_24m</td>\n",
       "      <td>980547</td>\n",
       "      <td>2.289204e-31</td>\n",
       "      <td>float64</td>\n",
       "    </tr>\n",
       "    <tr>\n",
       "      <th>11</th>\n",
       "      <td>open_acc</td>\n",
       "      <td>980547</td>\n",
       "      <td>1.867102e-180</td>\n",
       "      <td>float64</td>\n",
       "    </tr>\n",
       "    <tr>\n",
       "      <th>32</th>\n",
       "      <td>percent_bc_gt_75</td>\n",
       "      <td>980547</td>\n",
       "      <td>0.000000e+00</td>\n",
       "      <td>float64</td>\n",
       "    </tr>\n",
       "    <tr>\n",
       "      <th>39</th>\n",
       "      <td>pub_rec_cat</td>\n",
       "      <td>980547</td>\n",
       "      <td>5.142620e-215</td>\n",
       "      <td>int64</td>\n",
       "    </tr>\n",
       "    <tr>\n",
       "      <th>61</th>\n",
       "      <td>purpose_g_life_event</td>\n",
       "      <td>980547</td>\n",
       "      <td>4.913589e-88</td>\n",
       "      <td>uint8</td>\n",
       "    </tr>\n",
       "    <tr>\n",
       "      <th>62</th>\n",
       "      <td>purpose_g_major_purchase</td>\n",
       "      <td>980547</td>\n",
       "      <td>3.829377e-56</td>\n",
       "      <td>uint8</td>\n",
       "    </tr>\n",
       "    <tr>\n",
       "      <th>63</th>\n",
       "      <td>purpose_g_other</td>\n",
       "      <td>980547</td>\n",
       "      <td>1.338702e-20</td>\n",
       "      <td>uint8</td>\n",
       "    </tr>\n",
       "    <tr>\n",
       "      <th>64</th>\n",
       "      <td>region_MidWest</td>\n",
       "      <td>980547</td>\n",
       "      <td>1.504145e-04</td>\n",
       "      <td>uint8</td>\n",
       "    </tr>\n",
       "    <tr>\n",
       "      <th>65</th>\n",
       "      <td>region_NorthEast</td>\n",
       "      <td>980547</td>\n",
       "      <td>4.920023e-25</td>\n",
       "      <td>uint8</td>\n",
       "    </tr>\n",
       "    <tr>\n",
       "      <th>66</th>\n",
       "      <td>region_SouthEast</td>\n",
       "      <td>980547</td>\n",
       "      <td>7.514311e-26</td>\n",
       "      <td>uint8</td>\n",
       "    </tr>\n",
       "    <tr>\n",
       "      <th>68</th>\n",
       "      <td>region_West</td>\n",
       "      <td>980547</td>\n",
       "      <td>9.305029e-86</td>\n",
       "      <td>uint8</td>\n",
       "    </tr>\n",
       "    <tr>\n",
       "      <th>12</th>\n",
       "      <td>revol_util</td>\n",
       "      <td>980547</td>\n",
       "      <td>0.000000e+00</td>\n",
       "      <td>float64</td>\n",
       "    </tr>\n",
       "    <tr>\n",
       "      <th>33</th>\n",
       "      <td>tax_liens</td>\n",
       "      <td>980547</td>\n",
       "      <td>1.698528e-26</td>\n",
       "      <td>float64</td>\n",
       "    </tr>\n",
       "    <tr>\n",
       "      <th>2</th>\n",
       "      <td>term</td>\n",
       "      <td>980547</td>\n",
       "      <td>0.000000e+00</td>\n",
       "      <td>int64</td>\n",
       "    </tr>\n",
       "    <tr>\n",
       "      <th>17</th>\n",
       "      <td>tot_cur_bal</td>\n",
       "      <td>980547</td>\n",
       "      <td>0.000000e+00</td>\n",
       "      <td>float64</td>\n",
       "    </tr>\n",
       "    <tr>\n",
       "      <th>34</th>\n",
       "      <td>total_il_high_credit_limit</td>\n",
       "      <td>980547</td>\n",
       "      <td>2.589974e-25</td>\n",
       "      <td>float64</td>\n",
       "    </tr>\n",
       "    <tr>\n",
       "      <th>46</th>\n",
       "      <td>verification_status_1</td>\n",
       "      <td>980547</td>\n",
       "      <td>0.000000e+00</td>\n",
       "      <td>uint8</td>\n",
       "    </tr>\n",
       "    <tr>\n",
       "      <th>47</th>\n",
       "      <td>verification_status_Not Verified</td>\n",
       "      <td>980547</td>\n",
       "      <td>0.000000e+00</td>\n",
       "      <td>uint8</td>\n",
       "    </tr>\n",
       "  </tbody>\n",
       "</table>\n",
       "<p>62 rows × 4 columns</p>\n",
       "</div>"
      ],
      "text/plain": [
       "                                            index       n              p  \\\n",
       "37                                   Age_Borrower  980547   0.000000e+00   \n",
       "15                                 acc_now_delinq  980547   7.594770e-05   \n",
       "19                           acc_open_past_24mths  980547   0.000000e+00   \n",
       "40                                      acc_ratio  980547   0.000000e+00   \n",
       "7                                      annual_inc  980547  3.039275e-277   \n",
       "20                                    avg_cur_bal  980547   0.000000e+00   \n",
       "21                                 bc_open_to_buy  980547   0.000000e+00   \n",
       "22                                        bc_util  980547   0.000000e+00   \n",
       "13                     collections_12_mths_ex_med  980547   3.472952e-70   \n",
       "35                                    credit_risk  980547   0.000000e+00   \n",
       "38                                delinq_2yrs_cat  980547   6.979154e-93   \n",
       "52                       disbursement_method_Cash  980547   8.098956e-31   \n",
       "53                  disbursement_method_DirectPay  980547   8.098956e-31   \n",
       "8                                             dti  980547   0.000000e+00   \n",
       "6                                      emp_length  980547  3.154923e-187   \n",
       "0                                     funded_amnt  980547   0.000000e+00   \n",
       "1                                 funded_amnt_inv  980547   0.000000e+00   \n",
       "5                                           grade  980547   0.000000e+00   \n",
       "50  hardship_type_INTEREST ONLY-3 MONTHS DEFERRAL  980547   0.000000e+00   \n",
       "51                 hardship_type_NO HARDSHIP PLAN  980547   0.000000e+00   \n",
       "42                        home_ownership_MORTGAGE  980547   0.000000e+00   \n",
       "44                             home_ownership_OWN  980547   2.324314e-10   \n",
       "45                            home_ownership_RENT  980547   0.000000e+00   \n",
       "18                                        il_util  980547   0.000000e+00   \n",
       "48                          initial_list_status_f  980547   1.416212e-95   \n",
       "49                          initial_list_status_w  980547   1.416212e-95   \n",
       "4                                     installment  980547   0.000000e+00   \n",
       "3                                        int_rate  980547   0.000000e+00   \n",
       "36                                     issue_year  980547   0.000000e+00   \n",
       "54                         loan_amnt_range_0-5000  980547   0.000000e+00   \n",
       "..                                            ...     ...            ...   \n",
       "58                    loan_amnt_range_20000-25000  980547  4.334909e-123   \n",
       "59                         loan_amnt_range_25000+  980547   0.000000e+00   \n",
       "55                     loan_amnt_range_5000-10000  980547   0.000000e+00   \n",
       "25                             mo_sin_old_il_acct  980547   5.737244e-23   \n",
       "26                           mo_sin_old_rev_tl_op  980547  2.670411e-266   \n",
       "27                                 mo_sin_rcnt_tl  980547   0.000000e+00   \n",
       "28                                       mort_acc  980547   0.000000e+00   \n",
       "9                          mths_since_last_delinq  980547   9.171915e-15   \n",
       "14                    mths_since_last_major_derog  980547  1.840344e-154   \n",
       "10                         mths_since_last_record  980547  4.951289e-203   \n",
       "29                          num_accts_ever_120_pd  980547   2.339713e-50   \n",
       "30                                       num_sats  980547  1.979664e-296   \n",
       "31                             num_tl_90g_dpd_24m  980547   2.289204e-31   \n",
       "11                                       open_acc  980547  1.867102e-180   \n",
       "32                               percent_bc_gt_75  980547   0.000000e+00   \n",
       "39                                    pub_rec_cat  980547  5.142620e-215   \n",
       "61                           purpose_g_life_event  980547   4.913589e-88   \n",
       "62                       purpose_g_major_purchase  980547   3.829377e-56   \n",
       "63                                purpose_g_other  980547   1.338702e-20   \n",
       "64                                 region_MidWest  980547   1.504145e-04   \n",
       "65                               region_NorthEast  980547   4.920023e-25   \n",
       "66                               region_SouthEast  980547   7.514311e-26   \n",
       "68                                    region_West  980547   9.305029e-86   \n",
       "12                                     revol_util  980547   0.000000e+00   \n",
       "33                                      tax_liens  980547   1.698528e-26   \n",
       "2                                            term  980547   0.000000e+00   \n",
       "17                                    tot_cur_bal  980547   0.000000e+00   \n",
       "34                     total_il_high_credit_limit  980547   2.589974e-25   \n",
       "46                          verification_status_1  980547   0.000000e+00   \n",
       "47               verification_status_Not Verified  980547   0.000000e+00   \n",
       "\n",
       "       type  \n",
       "37  float64  \n",
       "15  float64  \n",
       "19  float64  \n",
       "40  float64  \n",
       "7   float64  \n",
       "20  float64  \n",
       "21  float64  \n",
       "22  float64  \n",
       "13  float64  \n",
       "35    int64  \n",
       "38    int64  \n",
       "52    uint8  \n",
       "53    uint8  \n",
       "8   float64  \n",
       "6   float64  \n",
       "0     int64  \n",
       "1   float64  \n",
       "5     int64  \n",
       "50    uint8  \n",
       "51    uint8  \n",
       "42    uint8  \n",
       "44    uint8  \n",
       "45    uint8  \n",
       "18  float64  \n",
       "48    uint8  \n",
       "49    uint8  \n",
       "4   float64  \n",
       "3   float64  \n",
       "36    int64  \n",
       "54    uint8  \n",
       "..      ...  \n",
       "58    uint8  \n",
       "59    uint8  \n",
       "55    uint8  \n",
       "25  float64  \n",
       "26  float64  \n",
       "27  float64  \n",
       "28  float64  \n",
       "9   float64  \n",
       "14  float64  \n",
       "10  float64  \n",
       "29  float64  \n",
       "30  float64  \n",
       "31  float64  \n",
       "11  float64  \n",
       "32  float64  \n",
       "39    int64  \n",
       "61    uint8  \n",
       "62    uint8  \n",
       "63    uint8  \n",
       "64    uint8  \n",
       "65    uint8  \n",
       "66    uint8  \n",
       "68    uint8  \n",
       "12  float64  \n",
       "33  float64  \n",
       "2     int64  \n",
       "17  float64  \n",
       "34  float64  \n",
       "46    uint8  \n",
       "47    uint8  \n",
       "\n",
       "[62 rows x 4 columns]"
      ]
     },
     "execution_count": 58,
     "metadata": {},
     "output_type": "execute_result"
    }
   ],
   "source": [
    "# Se une el p-valor con la informacion de cada variable.\n",
    "var_info = pd.merge(var_n, pval, how='left', on=['index'])\n",
    "var_info = pd.merge(var_info, var_type, how='left', on=['index'])\n",
    "var_select = var_info.loc[((var_info['n']/len(loan_train)>.95)) & (var_info['p'] < 0.05/len(var_info))]\n",
    "var_select.to_csv('selected_vars.csv')\n",
    "\n",
    "print('Total number of variables selected =',len(var_select))\n",
    "print('Type of variables:')\n",
    "print(var_select['type'].value_counts())\n",
    "\n",
    "import matplotlib.pyplot as plt\n",
    "plt.plot(var_select['p'],'ro')\n",
    "var_select.sort_values(by=['index'])"
   ]
  },
  {
   "cell_type": "code",
   "execution_count": 59,
   "metadata": {},
   "outputs": [
    {
     "data": {
      "text/plain": [
       "(325634, 69)"
      ]
     },
     "execution_count": 59,
     "metadata": {},
     "output_type": "execute_result"
    }
   ],
   "source": [
    "loan_test.shape"
   ]
  },
  {
   "cell_type": "markdown",
   "metadata": {},
   "source": [
    "Según el T-student y el Chi Cuadrado se seleccionarian 61 variables."
   ]
  },
  {
   "cell_type": "code",
   "execution_count": 60,
   "metadata": {},
   "outputs": [
    {
     "data": {
      "text/plain": [
       "['tot_coll_amt',\n",
       " 'chargeoff_within_12_mths',\n",
       " 'delinq_amnt',\n",
       " 'revol_bal_cat',\n",
       " 'home_ownership_OTHER',\n",
       " 'purpose_g_debt',\n",
       " 'region_SouthWest']"
      ]
     },
     "execution_count": 60,
     "metadata": {},
     "output_type": "execute_result"
    }
   ],
   "source": [
    "#Se imprime las variables seleccionadas.\n",
    "drop_list = [col for col in loan_train.columns if col not in var_select['index'].tolist()]\n",
    "drop_list"
   ]
  },
  {
   "cell_type": "code",
   "execution_count": 61,
   "metadata": {},
   "outputs": [],
   "source": [
    "loan_select =loan_train.drop(labels=drop_list, axis=1)\n",
    "loan_test_s =loan_test.drop(labels=drop_list, axis=1)"
   ]
  },
  {
   "cell_type": "code",
   "execution_count": 62,
   "metadata": {},
   "outputs": [],
   "source": [
    "loan_select.to_csv('../data/2_TrainSet.gz', compression='gzip', index=False)"
   ]
  },
  {
   "cell_type": "code",
   "execution_count": 66,
   "metadata": {},
   "outputs": [
    {
     "data": {
      "text/plain": [
       "(980547, 62)"
      ]
     },
     "execution_count": 66,
     "metadata": {},
     "output_type": "execute_result"
    }
   ],
   "source": [
    "loan_select.shape"
   ]
  },
  {
   "cell_type": "code",
   "execution_count": 63,
   "metadata": {},
   "outputs": [],
   "source": [
    "loan_test_s.to_csv('../data/2_TestSet.gz', compression='gzip', index=False)"
   ]
  }
 ],
 "metadata": {
  "kernelspec": {
   "display_name": "Python 3",
   "language": "python",
   "name": "python3"
  },
  "language_info": {
   "codemirror_mode": {
    "name": "ipython",
    "version": 3
   },
   "file_extension": ".py",
   "mimetype": "text/x-python",
   "name": "python",
   "nbconvert_exporter": "python",
   "pygments_lexer": "ipython3",
   "version": "3.7.3"
  },
  "toc": {
   "base_numbering": 1,
   "nav_menu": {},
   "number_sections": true,
   "sideBar": true,
   "skip_h1_title": true,
   "title_cell": "Table of Contents",
   "title_sidebar": "Contents",
   "toc_cell": true,
   "toc_position": {
    "height": "calc(100% - 180px)",
    "left": "10px",
    "top": "150px",
    "width": "372.766px"
   },
   "toc_section_display": true,
   "toc_window_display": false
  }
 },
 "nbformat": 4,
 "nbformat_minor": 2
}
